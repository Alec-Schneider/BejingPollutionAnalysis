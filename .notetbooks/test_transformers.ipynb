{
 "cells": [
  {
   "cell_type": "code",
   "execution_count": 608,
   "metadata": {},
   "outputs": [
    {
     "data": {
      "text/plain": [
       "<module 'torch_utils' from 'C:\\\\Users\\\\Alec\\\\OneDrive\\\\Documents\\\\Syracuse\\\\IST707-DataAnalytics\\\\project\\\\torch_utils.py'>"
      ]
     },
     "execution_count": 608,
     "metadata": {},
     "output_type": "execute_result"
    }
   ],
   "source": [
    "from pykalman import KalmanFilter\n",
    "import numpy as np\n",
    "import matplotlib.pyplot as plt\n",
    "from numpy import ma\n",
    "import pandas as pd\n",
    "import os\n",
    "# pytorch imports\n",
    "import torch\n",
    "from torch.utils.data.sampler import SequentialSampler, Sampler\n",
    "from torch.utils.data.dataloader import DataLoader\n",
    "from torch.utils.data import Dataset\n",
    "import math\n",
    "import preprocessor \n",
    "from importlib import reload\n",
    "reload(preprocessor)\n",
    "\n",
    "import torch_utils\n",
    "reload(torch_utils)"
   ]
  },
  {
   "cell_type": "code",
   "execution_count": 588,
   "metadata": {},
   "outputs": [
    {
     "name": "stdout",
     "output_type": "stream",
     "text": [
      "cuda\n"
     ]
    }
   ],
   "source": [
    "# get the device available\n",
    "_device = torch.device('cuda') if torch.cuda.is_available() else torch.device('cpu')\n",
    "\n",
    "print(_device)"
   ]
  },
  {
   "cell_type": "code",
   "execution_count": 589,
   "metadata": {},
   "outputs": [],
   "source": [
    "path = \"C:\\\\Users\\\\Alec\\\\OneDrive\\\\Documents\\\\Syracuse\\\\IST707-DataAnalytics\\\\project\\\\.data\\\\bejing_air_quality\\\\cleaned\\\\\""
   ]
  },
  {
   "cell_type": "code",
   "execution_count": 308,
   "metadata": {},
   "outputs": [
    {
     "name": "stdout",
     "output_type": "stream",
     "text": [
      "self.files: ['C:\\\\Users\\\\Alec\\\\OneDrive\\\\Documents\\\\Syracuse\\\\IST707-DataAnalytics\\\\project\\\\.data\\\\bejing_air_quality\\\\cleaned\\\\train\\\\PRSA_Data_Aotizhongxin_20130301-20170228.csv', 'C:\\\\Users\\\\Alec\\\\OneDrive\\\\Documents\\\\Syracuse\\\\IST707-DataAnalytics\\\\project\\\\.data\\\\bejing_air_quality\\\\cleaned\\\\train\\\\PRSA_Data_Changping_20130301-20170228.csv', 'C:\\\\Users\\\\Alec\\\\OneDrive\\\\Documents\\\\Syracuse\\\\IST707-DataAnalytics\\\\project\\\\.data\\\\bejing_air_quality\\\\cleaned\\\\train\\\\PRSA_Data_Dingling_20130301-20170228.csv', 'C:\\\\Users\\\\Alec\\\\OneDrive\\\\Documents\\\\Syracuse\\\\IST707-DataAnalytics\\\\project\\\\.data\\\\bejing_air_quality\\\\cleaned\\\\train\\\\PRSA_Data_Dongsi_20130301-20170228.csv', 'C:\\\\Users\\\\Alec\\\\OneDrive\\\\Documents\\\\Syracuse\\\\IST707-DataAnalytics\\\\project\\\\.data\\\\bejing_air_quality\\\\cleaned\\\\train\\\\PRSA_Data_Guanyuan_20130301-20170228.csv', 'C:\\\\Users\\\\Alec\\\\OneDrive\\\\Documents\\\\Syracuse\\\\IST707-DataAnalytics\\\\project\\\\.data\\\\bejing_air_quality\\\\cleaned\\\\train\\\\PRSA_Data_Gucheng_20130301-20170228.csv', 'C:\\\\Users\\\\Alec\\\\OneDrive\\\\Documents\\\\Syracuse\\\\IST707-DataAnalytics\\\\project\\\\.data\\\\bejing_air_quality\\\\cleaned\\\\train\\\\PRSA_Data_Huairou_20130301-20170228.csv', 'C:\\\\Users\\\\Alec\\\\OneDrive\\\\Documents\\\\Syracuse\\\\IST707-DataAnalytics\\\\project\\\\.data\\\\bejing_air_quality\\\\cleaned\\\\train\\\\PRSA_Data_Nongzhanguan_20130301-20170228.csv', 'C:\\\\Users\\\\Alec\\\\OneDrive\\\\Documents\\\\Syracuse\\\\IST707-DataAnalytics\\\\project\\\\.data\\\\bejing_air_quality\\\\cleaned\\\\train\\\\PRSA_Data_Shunyi_20130301-20170228.csv']\n"
     ]
    }
   ],
   "source": [
    "# Created a Dataset object to be passed to a DataLoader\n",
    "bej_ds = preprocessor.BejingAirDataset(path, train=True)"
   ]
  },
  {
   "cell_type": "code",
   "execution_count": 309,
   "metadata": {},
   "outputs": [],
   "source": [
    "dinling_tensor = bej_ds[0]"
   ]
  },
  {
   "cell_type": "code",
   "execution_count": 310,
   "metadata": {},
   "outputs": [
    {
     "data": {
      "text/plain": [
       "[torch.Size([35064, 30]), torch.Size([35064, 1])]"
      ]
     },
     "execution_count": 310,
     "metadata": {},
     "output_type": "execute_result"
    }
   ],
   "source": [
    "[x.size() for x in dinling_tensor]"
   ]
  },
  {
   "cell_type": "code",
   "execution_count": 311,
   "metadata": {},
   "outputs": [
    {
     "name": "stdout",
     "output_type": "stream",
     "text": [
      "train indicies: [0 1 2 3 4 5 6 7 8]\n"
     ]
    }
   ],
   "source": [
    "# Create training DataLoader\n",
    "train_dl = preprocessor.get_dataloader(bej_ds, device=_device)"
   ]
  },
  {
   "cell_type": "code",
   "execution_count": 312,
   "metadata": {},
   "outputs": [
    {
     "name": "stdout",
     "output_type": "stream",
     "text": [
      "<preprocessor.DeviceDataLoader object at 0x000001DDCF28BF08>\n",
      "9\n"
     ]
    }
   ],
   "source": [
    "print(train_dl)\n",
    "print(len(train_dl))"
   ]
  },
  {
   "cell_type": "code",
   "execution_count": 313,
   "metadata": {},
   "outputs": [
    {
     "data": {
      "text/plain": [
       "9"
      ]
     },
     "execution_count": 313,
     "metadata": {},
     "output_type": "execute_result"
    }
   ],
   "source": [
    "len(bej_ds)"
   ]
  },
  {
   "cell_type": "code",
   "execution_count": 314,
   "metadata": {},
   "outputs": [
    {
     "ename": "AttributeError",
     "evalue": "'list' object has no attribute 'shape'",
     "output_type": "error",
     "traceback": [
      "\u001b[1;31m---------------------------------------------------------------------------\u001b[0m",
      "\u001b[1;31mAttributeError\u001b[0m                            Traceback (most recent call last)",
      "\u001b[1;32m<ipython-input-314-bb4d84ebb5c1>\u001b[0m in \u001b[0;36m<module>\u001b[1;34m\u001b[0m\n\u001b[0;32m      1\u001b[0m \u001b[1;32mfor\u001b[0m \u001b[0mx\u001b[0m \u001b[1;32min\u001b[0m \u001b[0mtrain_dl\u001b[0m\u001b[1;33m:\u001b[0m\u001b[1;33m\u001b[0m\u001b[1;33m\u001b[0m\u001b[0m\n\u001b[1;32m----> 2\u001b[1;33m     \u001b[0mprint\u001b[0m\u001b[1;33m(\u001b[0m\u001b[0mx\u001b[0m\u001b[1;33m.\u001b[0m\u001b[0mshape\u001b[0m\u001b[1;33m)\u001b[0m\u001b[1;33m\u001b[0m\u001b[1;33m\u001b[0m\u001b[0m\n\u001b[0m\u001b[0;32m      3\u001b[0m     \u001b[0mprint\u001b[0m\u001b[1;33m(\u001b[0m\u001b[0mx\u001b[0m\u001b[1;33m)\u001b[0m\u001b[1;33m\u001b[0m\u001b[1;33m\u001b[0m\u001b[0m\n",
      "\u001b[1;31mAttributeError\u001b[0m: 'list' object has no attribute 'shape'"
     ]
    }
   ],
   "source": [
    "for x in train_dl:\n",
    "    print(x.shape)\n",
    "    print(x)"
   ]
  },
  {
   "cell_type": "code",
   "execution_count": 590,
   "metadata": {},
   "outputs": [
    {
     "name": "stdout",
     "output_type": "stream",
     "text": [
      "self.files: ['C:\\\\Users\\\\Alec\\\\OneDrive\\\\Documents\\\\Syracuse\\\\IST707-DataAnalytics\\\\project\\\\.data\\\\bejing_air_quality\\\\cleaned\\\\train\\\\PRSA_Data_Aotizhongxin_20130301-20170228.csv', 'C:\\\\Users\\\\Alec\\\\OneDrive\\\\Documents\\\\Syracuse\\\\IST707-DataAnalytics\\\\project\\\\.data\\\\bejing_air_quality\\\\cleaned\\\\train\\\\PRSA_Data_Changping_20130301-20170228.csv', 'C:\\\\Users\\\\Alec\\\\OneDrive\\\\Documents\\\\Syracuse\\\\IST707-DataAnalytics\\\\project\\\\.data\\\\bejing_air_quality\\\\cleaned\\\\train\\\\PRSA_Data_Dingling_20130301-20170228.csv', 'C:\\\\Users\\\\Alec\\\\OneDrive\\\\Documents\\\\Syracuse\\\\IST707-DataAnalytics\\\\project\\\\.data\\\\bejing_air_quality\\\\cleaned\\\\train\\\\PRSA_Data_Dongsi_20130301-20170228.csv', 'C:\\\\Users\\\\Alec\\\\OneDrive\\\\Documents\\\\Syracuse\\\\IST707-DataAnalytics\\\\project\\\\.data\\\\bejing_air_quality\\\\cleaned\\\\train\\\\PRSA_Data_Guanyuan_20130301-20170228.csv', 'C:\\\\Users\\\\Alec\\\\OneDrive\\\\Documents\\\\Syracuse\\\\IST707-DataAnalytics\\\\project\\\\.data\\\\bejing_air_quality\\\\cleaned\\\\train\\\\PRSA_Data_Gucheng_20130301-20170228.csv', 'C:\\\\Users\\\\Alec\\\\OneDrive\\\\Documents\\\\Syracuse\\\\IST707-DataAnalytics\\\\project\\\\.data\\\\bejing_air_quality\\\\cleaned\\\\train\\\\PRSA_Data_Huairou_20130301-20170228.csv', 'C:\\\\Users\\\\Alec\\\\OneDrive\\\\Documents\\\\Syracuse\\\\IST707-DataAnalytics\\\\project\\\\.data\\\\bejing_air_quality\\\\cleaned\\\\train\\\\PRSA_Data_Nongzhanguan_20130301-20170228.csv', 'C:\\\\Users\\\\Alec\\\\OneDrive\\\\Documents\\\\Syracuse\\\\IST707-DataAnalytics\\\\project\\\\.data\\\\bejing_air_quality\\\\cleaned\\\\train\\\\PRSA_Data_Shunyi_20130301-20170228.csv']\n"
     ]
    }
   ],
   "source": [
    "bej_ds2 = preprocessor.BejingAirDataset(path)"
   ]
  },
  {
   "cell_type": "code",
   "execution_count": 591,
   "metadata": {},
   "outputs": [],
   "source": [
    "train_dl2 = preprocessor.get_dataloader2(bej_ds2,device=_device)"
   ]
  },
  {
   "cell_type": "code",
   "execution_count": 592,
   "metadata": {},
   "outputs": [
    {
     "name": "stdout",
     "output_type": "stream",
     "text": [
      "Features:\n",
      "torch.Size([1, 35064, 30])\n",
      "tensor([[[-1.0804, -0.5269, -1.1798,  ...,  0.0000,  0.0000,  0.0000],\n",
      "         [-1.0369, -0.5269, -1.1798,  ...,  0.0000,  0.0000,  0.0000],\n",
      "         [-1.0478, -0.4817, -1.0934,  ...,  0.0000,  0.0000,  0.0000],\n",
      "         ...,\n",
      "         [-0.7217, -0.2557,  0.5200,  ...,  0.0000,  0.0000,  0.0000],\n",
      "         [-0.6456, -0.1653,  1.1250,  ...,  0.0000,  0.0000,  0.0000],\n",
      "         [-0.7869, -0.2557,  0.8945,  ...,  0.0000,  0.0000,  0.0000]]],\n",
      "       device='cuda:0', dtype=torch.float64)\n",
      "Targets:\n",
      "torch.Size([1, 35064, 1])\n",
      "tensor([[[-0.9307],\n",
      "         [-0.8810],\n",
      "         [-0.8935],\n",
      "         ...,\n",
      "         [-0.7817],\n",
      "         [-0.7196],\n",
      "         [-0.7445]]], device='cuda:0', dtype=torch.float64)\n"
     ]
    }
   ],
   "source": [
    "for x, y in train_dl2:\n",
    "    #print(x.size())\n",
    "    print(\"Features:\")\n",
    "    print(x.size())\n",
    "    print(x)\n",
    "    print(\"Targets:\")\n",
    "    print(y.size())\n",
    "    print(y)\n",
    "    break"
   ]
  },
  {
   "cell_type": "code",
   "execution_count": 315,
   "metadata": {},
   "outputs": [
    {
     "ename": "TypeError",
     "evalue": "'DeviceDataLoader' object is not subscriptable",
     "output_type": "error",
     "traceback": [
      "\u001b[1;31m---------------------------------------------------------------------------\u001b[0m",
      "\u001b[1;31mTypeError\u001b[0m                                 Traceback (most recent call last)",
      "\u001b[1;32m<ipython-input-315-c944294cd93a>\u001b[0m in \u001b[0;36m<module>\u001b[1;34m\u001b[0m\n\u001b[1;32m----> 1\u001b[1;33m \u001b[0mtrain_dl\u001b[0m\u001b[1;33m[\u001b[0m\u001b[1;36m0\u001b[0m\u001b[1;33m]\u001b[0m\u001b[1;33m\u001b[0m\u001b[1;33m\u001b[0m\u001b[0m\n\u001b[0m",
      "\u001b[1;31mTypeError\u001b[0m: 'DeviceDataLoader' object is not subscriptable"
     ]
    }
   ],
   "source": [
    "train_dl[0]"
   ]
  },
  {
   "cell_type": "code",
   "execution_count": 593,
   "metadata": {},
   "outputs": [
    {
     "data": {
      "text/plain": [
       "31559"
      ]
     },
     "execution_count": 593,
     "metadata": {},
     "output_type": "execute_result"
    }
   ],
   "source": [
    "train_indices, val_indicies = preprocessor.split_indicies(35064, 0.1)\n",
    "len(train_indices)"
   ]
  },
  {
   "cell_type": "code",
   "execution_count": 594,
   "metadata": {
    "collapsed": true,
    "jupyter": {
     "outputs_hidden": true
    }
   },
   "outputs": [
    {
     "name": "stdout",
     "output_type": "stream",
     "text": [
      "torch.Size([1, 35064, 30])\n",
      "Train:\n",
      "torch.Size([1, 31559, 30])\n",
      "torch.Size([1, 31559, 1])\n",
      "\n",
      "Val:\n",
      "torch.Size([1, 3505, 30])\n",
      "torch.Size([1, 3505, 1])\n",
      "torch.Size([1, 35064, 30])\n",
      "Train:\n",
      "torch.Size([1, 31559, 30])\n",
      "torch.Size([1, 31559, 1])\n",
      "\n",
      "Val:\n",
      "torch.Size([1, 3505, 30])\n",
      "torch.Size([1, 3505, 1])\n",
      "torch.Size([1, 35064, 30])\n",
      "Train:\n",
      "torch.Size([1, 31559, 30])\n",
      "torch.Size([1, 31559, 1])\n",
      "\n",
      "Val:\n",
      "torch.Size([1, 3505, 30])\n",
      "torch.Size([1, 3505, 1])\n",
      "torch.Size([1, 35064, 30])\n",
      "Train:\n",
      "torch.Size([1, 31559, 30])\n",
      "torch.Size([1, 31559, 1])\n",
      "\n",
      "Val:\n",
      "torch.Size([1, 3505, 30])\n",
      "torch.Size([1, 3505, 1])\n",
      "torch.Size([1, 35064, 30])\n",
      "Train:\n",
      "torch.Size([1, 31559, 30])\n",
      "torch.Size([1, 31559, 1])\n",
      "\n",
      "Val:\n",
      "torch.Size([1, 3505, 30])\n",
      "torch.Size([1, 3505, 1])\n",
      "torch.Size([1, 35064, 30])\n",
      "Train:\n",
      "torch.Size([1, 31559, 30])\n",
      "torch.Size([1, 31559, 1])\n",
      "\n",
      "Val:\n",
      "torch.Size([1, 3505, 30])\n",
      "torch.Size([1, 3505, 1])\n",
      "torch.Size([1, 35064, 30])\n",
      "Train:\n",
      "torch.Size([1, 31559, 30])\n",
      "torch.Size([1, 31559, 1])\n",
      "\n",
      "Val:\n",
      "torch.Size([1, 3505, 30])\n",
      "torch.Size([1, 3505, 1])\n",
      "torch.Size([1, 35064, 30])\n",
      "Train:\n",
      "torch.Size([1, 31559, 30])\n",
      "torch.Size([1, 31559, 1])\n",
      "\n",
      "Val:\n",
      "torch.Size([1, 3505, 30])\n",
      "torch.Size([1, 3505, 1])\n",
      "torch.Size([1, 35064, 30])\n",
      "Train:\n",
      "torch.Size([1, 31559, 30])\n",
      "torch.Size([1, 31559, 1])\n",
      "\n",
      "Val:\n",
      "torch.Size([1, 3505, 30])\n",
      "torch.Size([1, 3505, 1])\n"
     ]
    }
   ],
   "source": [
    "x_len = None\n",
    "for x, y in train_dl2:\n",
    "    #print(x.size())\n",
    "    x_len = x.size()[1]\n",
    "    print(x.size())\n",
    "    x, val = torch.split(x, [len(train_indices),len(val_indicies)], dim=1)\n",
    "    train_y, val_y = torch.split(y, [len(train_indices),len(val_indicies)], dim=1)\n",
    "    print(\"Train:\")\n",
    "    \n",
    "    print(x.size())\n",
    "    #print(x)\n",
    "    \n",
    "    print(train_y.size())\n",
    "    #print(train_y)\n",
    "    \n",
    "    print()\n",
    "    print(\"Val:\")\n",
    "    print(val.size())\n",
    "    #print(val)\n",
    "    \n",
    "    print(val_y.size())\n",
    "    #print(val_y)\n",
    "    "
   ]
  },
  {
   "cell_type": "code",
   "execution_count": 223,
   "metadata": {
    "jupyter": {
     "source_hidden": true
    }
   },
   "outputs": [],
   "source": [
    "import torch\n",
    "import torch.nn as nn\n",
    "\n",
    "\n",
    "_device = torch.device(\"cuda\") if torch.cuda.is_available() else torch.device(\"cpu\")\n",
    "\n",
    "\n",
    "class SelfAttention(nn.Module):\n",
    "    def __init__(self, embed_size, heads):\n",
    "        super(SelfAttention, self).__init__()\n",
    "        self.embed_size = embed_size\n",
    "        self.heads = heads\n",
    "        self.head_dim = embed_size // heads\n",
    "\n",
    "        assert (\n",
    "            self.head_dim * heads == embed_size\n",
    "        ), \"Embedding size needs to be divisible by heads\"\n",
    "\n",
    "        self.values = nn.Linear(self.head_dim, self.head_dim, bias=False)\n",
    "        self.keys = nn.Linear(self.head_dim, self.head_dim, bias=False)\n",
    "        self.queries = nn.Linear(self.head_dim, self.head_dim, bias=False)\n",
    "        self.fc_out = nn.Linear(heads * self.head_dim, embed_size)\n",
    "\n",
    "    def forward(self, values, keys, query, mask):\n",
    "        # Get number of training examples\n",
    "        N = query.shape[0]\n",
    "\n",
    "        value_len, key_len, query_len = values.shape[1], keys.shape[1], query.shape[1]\n",
    "\n",
    "        # Split the embedding into self.heads different pieces\n",
    "        values = values.reshape(N, value_len, self.heads, self.head_dim)\n",
    "        keys = keys.reshape(N, key_len, self.heads, self.head_dim)\n",
    "        query = query.reshape(N, query_len, self.heads, self.head_dim)\n",
    "\n",
    "        values = self.values(values)  # (N, value_len, heads, head_dim)\n",
    "        keys = self.keys(keys)\n",
    "        queries = self.queries(query)\n",
    "\n",
    "        # Einsum does matrix multiplication for query * keys for eag training example\n",
    "        # with every other training example, don't be confused by einsum\n",
    "        energy = torch.einsum(\"nqhd,nkhd->nhqk\", [queries, keys])\n",
    "        # queries shape: (N, query_len, heads, heads_dim),\n",
    "        # keys shape: (N, key_len, heads, heads_dim)\n",
    "        # energy: (N, heads, query_len, key_len)\n",
    "\n",
    "        # Marck padded indicies so their weights become 0\n",
    "        if mask is not None:\n",
    "            energy = energy.masked_fill(mask == 0, float(\"-1e20\"))\n",
    "\n",
    "        # Normalize energy values similarly to seq2seq + attention\n",
    "        # so that they sum to 1. Also divide by scaling factor for\n",
    "        # better stability\n",
    "        attention = torch.softmax(energy / (self.embed_size ** (1 / 2)), dim=3)\n",
    "        # attention shape; (N, heads, query_len, key_len)\n",
    "\n",
    "        out = torch.einsum(\"nhql,nlhd->nqhd\", [attention, values]).reshape(\n",
    "            N, query_len, self.heads * self.head_dim\n",
    "        )\n",
    "        # attention shape: (N, heads, query_len, key_len)\n",
    "        # values shape: (N, value_len, heads, heads_dim)\n",
    "        # out after matrix multiply: (N, query_len, heads, head_dim), then\n",
    "        # we reshape and flatten the last two dimensions.\n",
    "\n",
    "        out = self.fc_out(out)\n",
    "        # Linear layer doesn't modify the shape, final shape will be\n",
    "        # (N, query_len, embed_size)\n",
    "\n",
    "        return out\n",
    "\n",
    "\n",
    "class TransformerBlock(nn.Module):\n",
    "    def __init__(self, embed_size, heads, dropout, forward_expansion):\n",
    "        super(TransformerBlock, self).__init__()\n",
    "        self.attention = SelfAttention(embed_size, heads)\n",
    "        self.norm1 = nn.LayerNorm(embed_size)\n",
    "        self.norm2 = nn.LayerNorm(embed_size)\n",
    "        self.dropout = nn.Dropout(dropout)\n",
    "\n",
    "        self.feed_forward = nn.Sequential(\n",
    "            nn.Linear(embed_size, forward_expansion * embed_size),\n",
    "            nn.ReLU(),\n",
    "            nn.Linear(forward_expansion * embed_size, embed_size),\n",
    "        )\n",
    "\n",
    "    def forward(self, value, key, query, mask):\n",
    "        attention = self.attention(value, key, query, mask)\n",
    "        # Add skip connection, run through normalization and finally dropout\n",
    "        x = self.dropout(self.norm1(attention + query))\n",
    "        forward = self.feed_forward(x)\n",
    "        out = self.dropout(self.norm2(forward + x))\n",
    "        return out\n",
    "\n",
    "\n",
    "class Encoder(nn.Module):\n",
    "    def __init__(\n",
    "        self,\n",
    "        src_vocab_size,\n",
    "        embed_size,\n",
    "        num_layers,\n",
    "        heads,\n",
    "        device,\n",
    "        forward_expansion,\n",
    "        dropout,\n",
    "        max_length,\n",
    "    ):\n",
    "        super(Encoder, self).__init__()\n",
    "        self.embed_size = embed_size\n",
    "        self.device = device\n",
    "        self.word_embedding = nn.Embedding(src_vocab_size, embed_size)\n",
    "        self.position_embedding = nn.Embedding(max_length, embed_size)\n",
    "        self.dropout = nn.Dropout(dropout)\n",
    "\n",
    "        self.layers = nn.ModuleList(\n",
    "            [\n",
    "                TransformerBlock(embed_size, heads, dropout, forward_expansion)\n",
    "                for _ in range(num_layers)\n",
    "            ]\n",
    "        )\n",
    "\n",
    "    def forward(self, x, mask):\n",
    "        N, seq_length = x.shape\n",
    "        positions = torch.arange(0, seq_length).expand(N, seq_length).to(self.device)\n",
    "        out = self.dropout(\n",
    "            (self.word_embedding(x) + self.position_embedding(positions))\n",
    "        )\n",
    "\n",
    "        # In the Encoder the query, value, key are all the same, it's in the\n",
    "        # decoder this will change. This might look a bit odd in this case\n",
    "        for layer in self.layers:\n",
    "            out = layer(out, out, out, mask)\n",
    "\n",
    "        return out\n",
    "\n",
    "\n",
    "class DecoderBlock(nn.Module):\n",
    "    def __init__(self, embed_size, heads, forward_expansion, dropout, device):\n",
    "        super(DecoderBlock, self).__init__()\n",
    "        self.norm = nn.LayerNorm(embed_size)\n",
    "        self.attention = SelfAttention(embed_size, heads)\n",
    "        self.transformer_block = TransformerBlock(\n",
    "            embed_size, heads, dropout, forward_expansion\n",
    "        )\n",
    "        self.dropout = nn.Dropout(dropout)\n",
    "\n",
    "    def forward(self, x, value, key, src_mask, trg_mask):\n",
    "        attention = self.attention(x, x, x, trg_mask)\n",
    "        query = self.dropout(self.norm(attention + x))\n",
    "        out = self.transformer_block(value, key, query, src_mask)\n",
    "        return out\n",
    "\n",
    "\n",
    "class Decoder(nn.Module):\n",
    "    def __init__(\n",
    "        self,\n",
    "        trg_vocab_size,\n",
    "        embed_size,\n",
    "        num_layers,\n",
    "        heads,\n",
    "        forward_expansion,\n",
    "        dropout,\n",
    "        device,\n",
    "        max_length,\n",
    "    ):\n",
    "        super(Decoder, self).__init__()\n",
    "        self.device = device\n",
    "        self.word_embedding = nn.Embedding(trg_vocab_size, embed_size)\n",
    "        self.position_embedding = nn.Embedding(max_length, embed_size)\n",
    "        self.fc_out = nn.Linear(embed_size, trg_vocab_size)\n",
    "        self.dropout = nn.Dropout(dropout)\n",
    "        self.layers = nn.ModuleList(\n",
    "            [\n",
    "                DecoderBlock(embed_size, heads, forward_expansion, dropout, device)\n",
    "                for _ in range(num_layers)\n",
    "            ]\n",
    "        )\n",
    "\n",
    "    def forward(self, x, enc_out, src_mask, trg_mask):\n",
    "        N, seq_length = x.shape\n",
    "        positions = torch.arange(0, seq_length).expand(N, seq_length).to(self.device)\n",
    "        x = self.dropout((self.word_embedding(x) + self.position_embedding(positions)))\n",
    "\n",
    "        for layer in self.layers:\n",
    "            x = layer(x, enc_out, enc_out, src_mask, trg_mask)\n",
    "\n",
    "        out = self.fc_out(x)\n",
    "        return out\n",
    "\n",
    "\n",
    "class Transformer(nn.Module):\n",
    "    def __init__(\n",
    "        self,\n",
    "        src_vocab_size,\n",
    "        trg_vocab_size,\n",
    "        src_pad_idx,\n",
    "        trg_pad_idx,\n",
    "        embed_size=512,\n",
    "        num_layers=6,\n",
    "        forward_expansion=4,\n",
    "        heads=8,\n",
    "        dropout=0,\n",
    "        device=\"cuda\",\n",
    "        max_length=100,\n",
    "    ):\n",
    "        super(Transformer, self).__init__()\n",
    "\n",
    "        self.encoder = Encoder(\n",
    "            src_vocab_size,\n",
    "            embed_size,\n",
    "            num_layers,\n",
    "            heads,\n",
    "            device,\n",
    "            forward_expansion,\n",
    "            dropout,\n",
    "            max_length,\n",
    "        )\n",
    "\n",
    "        self.decoder = Decoder(\n",
    "            trg_vocab_size,\n",
    "            embed_size,\n",
    "            num_layers,\n",
    "            heads,\n",
    "            forward_expansion,\n",
    "            dropout,\n",
    "            device,\n",
    "            max_length,\n",
    "        )\n",
    "\n",
    "        self.src_pad_idx = src_pad_idx\n",
    "        self.trg_pad_idx = trg_pad_idx\n",
    "        self.device = device\n",
    "\n",
    "    def make_src_mask(self, src):\n",
    "        src_mask = (src != self.src_pad_idx).unsqueeze(1).unsqueeze(2)\n",
    "        # (N, 1, 1, src_len)\n",
    "        return src_mask.to(self.device)\n",
    "\n",
    "    def make_trg_mask(self, trg):\n",
    "        N, trg_len = trg.shape\n",
    "        trg_mask = torch.tril(torch.ones((trg_len, trg_len))).expand(\n",
    "            N, 1, trg_len, trg_len\n",
    "        )\n",
    "        return trg_mask.to(self.device)\n",
    "\n",
    "    def forward(self, src, trg):\n",
    "        src_mask = self.make_src_mask(src)\n",
    "        trg_mask = self.make_trg_mask(trg)\n",
    "        enc_src = self.encoder(src, src_mask)\n",
    "        out = self.decoder(trg, enc_src, src_mask, trg_mask)\n",
    "        return out\n"
   ]
  },
  {
   "cell_type": "code",
   "execution_count": 237,
   "metadata": {},
   "outputs": [],
   "source": [
    "src_pad_idx = 0\n",
    "trg_pad_idx = 0\n",
    "src_vocab_size = x_len\n",
    "trg_vocab_size = 1\n",
    "model = Transformer(\n",
    "    src_vocab_size, trg_vocab_size, src_pad_idx, trg_pad_idx, device=_device\n",
    ").to(_device)"
   ]
  },
  {
   "cell_type": "code",
   "execution_count": 238,
   "metadata": {
    "collapsed": true,
    "jupyter": {
     "outputs_hidden": true
    }
   },
   "outputs": [
    {
     "data": {
      "text/plain": [
       "Transformer(\n",
       "  (encoder): Encoder(\n",
       "    (word_embedding): Embedding(35064, 512)\n",
       "    (position_embedding): Embedding(100, 512)\n",
       "    (dropout): Dropout(p=0, inplace=False)\n",
       "    (layers): ModuleList(\n",
       "      (0): TransformerBlock(\n",
       "        (attention): SelfAttention(\n",
       "          (values): Linear(in_features=64, out_features=64, bias=False)\n",
       "          (keys): Linear(in_features=64, out_features=64, bias=False)\n",
       "          (queries): Linear(in_features=64, out_features=64, bias=False)\n",
       "          (fc_out): Linear(in_features=512, out_features=512, bias=True)\n",
       "        )\n",
       "        (norm1): LayerNorm((512,), eps=1e-05, elementwise_affine=True)\n",
       "        (norm2): LayerNorm((512,), eps=1e-05, elementwise_affine=True)\n",
       "        (dropout): Dropout(p=0, inplace=False)\n",
       "        (feed_forward): Sequential(\n",
       "          (0): Linear(in_features=512, out_features=2048, bias=True)\n",
       "          (1): ReLU()\n",
       "          (2): Linear(in_features=2048, out_features=512, bias=True)\n",
       "        )\n",
       "      )\n",
       "      (1): TransformerBlock(\n",
       "        (attention): SelfAttention(\n",
       "          (values): Linear(in_features=64, out_features=64, bias=False)\n",
       "          (keys): Linear(in_features=64, out_features=64, bias=False)\n",
       "          (queries): Linear(in_features=64, out_features=64, bias=False)\n",
       "          (fc_out): Linear(in_features=512, out_features=512, bias=True)\n",
       "        )\n",
       "        (norm1): LayerNorm((512,), eps=1e-05, elementwise_affine=True)\n",
       "        (norm2): LayerNorm((512,), eps=1e-05, elementwise_affine=True)\n",
       "        (dropout): Dropout(p=0, inplace=False)\n",
       "        (feed_forward): Sequential(\n",
       "          (0): Linear(in_features=512, out_features=2048, bias=True)\n",
       "          (1): ReLU()\n",
       "          (2): Linear(in_features=2048, out_features=512, bias=True)\n",
       "        )\n",
       "      )\n",
       "      (2): TransformerBlock(\n",
       "        (attention): SelfAttention(\n",
       "          (values): Linear(in_features=64, out_features=64, bias=False)\n",
       "          (keys): Linear(in_features=64, out_features=64, bias=False)\n",
       "          (queries): Linear(in_features=64, out_features=64, bias=False)\n",
       "          (fc_out): Linear(in_features=512, out_features=512, bias=True)\n",
       "        )\n",
       "        (norm1): LayerNorm((512,), eps=1e-05, elementwise_affine=True)\n",
       "        (norm2): LayerNorm((512,), eps=1e-05, elementwise_affine=True)\n",
       "        (dropout): Dropout(p=0, inplace=False)\n",
       "        (feed_forward): Sequential(\n",
       "          (0): Linear(in_features=512, out_features=2048, bias=True)\n",
       "          (1): ReLU()\n",
       "          (2): Linear(in_features=2048, out_features=512, bias=True)\n",
       "        )\n",
       "      )\n",
       "      (3): TransformerBlock(\n",
       "        (attention): SelfAttention(\n",
       "          (values): Linear(in_features=64, out_features=64, bias=False)\n",
       "          (keys): Linear(in_features=64, out_features=64, bias=False)\n",
       "          (queries): Linear(in_features=64, out_features=64, bias=False)\n",
       "          (fc_out): Linear(in_features=512, out_features=512, bias=True)\n",
       "        )\n",
       "        (norm1): LayerNorm((512,), eps=1e-05, elementwise_affine=True)\n",
       "        (norm2): LayerNorm((512,), eps=1e-05, elementwise_affine=True)\n",
       "        (dropout): Dropout(p=0, inplace=False)\n",
       "        (feed_forward): Sequential(\n",
       "          (0): Linear(in_features=512, out_features=2048, bias=True)\n",
       "          (1): ReLU()\n",
       "          (2): Linear(in_features=2048, out_features=512, bias=True)\n",
       "        )\n",
       "      )\n",
       "      (4): TransformerBlock(\n",
       "        (attention): SelfAttention(\n",
       "          (values): Linear(in_features=64, out_features=64, bias=False)\n",
       "          (keys): Linear(in_features=64, out_features=64, bias=False)\n",
       "          (queries): Linear(in_features=64, out_features=64, bias=False)\n",
       "          (fc_out): Linear(in_features=512, out_features=512, bias=True)\n",
       "        )\n",
       "        (norm1): LayerNorm((512,), eps=1e-05, elementwise_affine=True)\n",
       "        (norm2): LayerNorm((512,), eps=1e-05, elementwise_affine=True)\n",
       "        (dropout): Dropout(p=0, inplace=False)\n",
       "        (feed_forward): Sequential(\n",
       "          (0): Linear(in_features=512, out_features=2048, bias=True)\n",
       "          (1): ReLU()\n",
       "          (2): Linear(in_features=2048, out_features=512, bias=True)\n",
       "        )\n",
       "      )\n",
       "      (5): TransformerBlock(\n",
       "        (attention): SelfAttention(\n",
       "          (values): Linear(in_features=64, out_features=64, bias=False)\n",
       "          (keys): Linear(in_features=64, out_features=64, bias=False)\n",
       "          (queries): Linear(in_features=64, out_features=64, bias=False)\n",
       "          (fc_out): Linear(in_features=512, out_features=512, bias=True)\n",
       "        )\n",
       "        (norm1): LayerNorm((512,), eps=1e-05, elementwise_affine=True)\n",
       "        (norm2): LayerNorm((512,), eps=1e-05, elementwise_affine=True)\n",
       "        (dropout): Dropout(p=0, inplace=False)\n",
       "        (feed_forward): Sequential(\n",
       "          (0): Linear(in_features=512, out_features=2048, bias=True)\n",
       "          (1): ReLU()\n",
       "          (2): Linear(in_features=2048, out_features=512, bias=True)\n",
       "        )\n",
       "      )\n",
       "    )\n",
       "  )\n",
       "  (decoder): Decoder(\n",
       "    (word_embedding): Embedding(1, 512)\n",
       "    (position_embedding): Embedding(100, 512)\n",
       "    (fc_out): Linear(in_features=512, out_features=1, bias=True)\n",
       "    (dropout): Dropout(p=0, inplace=False)\n",
       "    (layers): ModuleList(\n",
       "      (0): DecoderBlock(\n",
       "        (norm): LayerNorm((512,), eps=1e-05, elementwise_affine=True)\n",
       "        (attention): SelfAttention(\n",
       "          (values): Linear(in_features=64, out_features=64, bias=False)\n",
       "          (keys): Linear(in_features=64, out_features=64, bias=False)\n",
       "          (queries): Linear(in_features=64, out_features=64, bias=False)\n",
       "          (fc_out): Linear(in_features=512, out_features=512, bias=True)\n",
       "        )\n",
       "        (transformer_block): TransformerBlock(\n",
       "          (attention): SelfAttention(\n",
       "            (values): Linear(in_features=64, out_features=64, bias=False)\n",
       "            (keys): Linear(in_features=64, out_features=64, bias=False)\n",
       "            (queries): Linear(in_features=64, out_features=64, bias=False)\n",
       "            (fc_out): Linear(in_features=512, out_features=512, bias=True)\n",
       "          )\n",
       "          (norm1): LayerNorm((512,), eps=1e-05, elementwise_affine=True)\n",
       "          (norm2): LayerNorm((512,), eps=1e-05, elementwise_affine=True)\n",
       "          (dropout): Dropout(p=0, inplace=False)\n",
       "          (feed_forward): Sequential(\n",
       "            (0): Linear(in_features=512, out_features=2048, bias=True)\n",
       "            (1): ReLU()\n",
       "            (2): Linear(in_features=2048, out_features=512, bias=True)\n",
       "          )\n",
       "        )\n",
       "        (dropout): Dropout(p=0, inplace=False)\n",
       "      )\n",
       "      (1): DecoderBlock(\n",
       "        (norm): LayerNorm((512,), eps=1e-05, elementwise_affine=True)\n",
       "        (attention): SelfAttention(\n",
       "          (values): Linear(in_features=64, out_features=64, bias=False)\n",
       "          (keys): Linear(in_features=64, out_features=64, bias=False)\n",
       "          (queries): Linear(in_features=64, out_features=64, bias=False)\n",
       "          (fc_out): Linear(in_features=512, out_features=512, bias=True)\n",
       "        )\n",
       "        (transformer_block): TransformerBlock(\n",
       "          (attention): SelfAttention(\n",
       "            (values): Linear(in_features=64, out_features=64, bias=False)\n",
       "            (keys): Linear(in_features=64, out_features=64, bias=False)\n",
       "            (queries): Linear(in_features=64, out_features=64, bias=False)\n",
       "            (fc_out): Linear(in_features=512, out_features=512, bias=True)\n",
       "          )\n",
       "          (norm1): LayerNorm((512,), eps=1e-05, elementwise_affine=True)\n",
       "          (norm2): LayerNorm((512,), eps=1e-05, elementwise_affine=True)\n",
       "          (dropout): Dropout(p=0, inplace=False)\n",
       "          (feed_forward): Sequential(\n",
       "            (0): Linear(in_features=512, out_features=2048, bias=True)\n",
       "            (1): ReLU()\n",
       "            (2): Linear(in_features=2048, out_features=512, bias=True)\n",
       "          )\n",
       "        )\n",
       "        (dropout): Dropout(p=0, inplace=False)\n",
       "      )\n",
       "      (2): DecoderBlock(\n",
       "        (norm): LayerNorm((512,), eps=1e-05, elementwise_affine=True)\n",
       "        (attention): SelfAttention(\n",
       "          (values): Linear(in_features=64, out_features=64, bias=False)\n",
       "          (keys): Linear(in_features=64, out_features=64, bias=False)\n",
       "          (queries): Linear(in_features=64, out_features=64, bias=False)\n",
       "          (fc_out): Linear(in_features=512, out_features=512, bias=True)\n",
       "        )\n",
       "        (transformer_block): TransformerBlock(\n",
       "          (attention): SelfAttention(\n",
       "            (values): Linear(in_features=64, out_features=64, bias=False)\n",
       "            (keys): Linear(in_features=64, out_features=64, bias=False)\n",
       "            (queries): Linear(in_features=64, out_features=64, bias=False)\n",
       "            (fc_out): Linear(in_features=512, out_features=512, bias=True)\n",
       "          )\n",
       "          (norm1): LayerNorm((512,), eps=1e-05, elementwise_affine=True)\n",
       "          (norm2): LayerNorm((512,), eps=1e-05, elementwise_affine=True)\n",
       "          (dropout): Dropout(p=0, inplace=False)\n",
       "          (feed_forward): Sequential(\n",
       "            (0): Linear(in_features=512, out_features=2048, bias=True)\n",
       "            (1): ReLU()\n",
       "            (2): Linear(in_features=2048, out_features=512, bias=True)\n",
       "          )\n",
       "        )\n",
       "        (dropout): Dropout(p=0, inplace=False)\n",
       "      )\n",
       "      (3): DecoderBlock(\n",
       "        (norm): LayerNorm((512,), eps=1e-05, elementwise_affine=True)\n",
       "        (attention): SelfAttention(\n",
       "          (values): Linear(in_features=64, out_features=64, bias=False)\n",
       "          (keys): Linear(in_features=64, out_features=64, bias=False)\n",
       "          (queries): Linear(in_features=64, out_features=64, bias=False)\n",
       "          (fc_out): Linear(in_features=512, out_features=512, bias=True)\n",
       "        )\n",
       "        (transformer_block): TransformerBlock(\n",
       "          (attention): SelfAttention(\n",
       "            (values): Linear(in_features=64, out_features=64, bias=False)\n",
       "            (keys): Linear(in_features=64, out_features=64, bias=False)\n",
       "            (queries): Linear(in_features=64, out_features=64, bias=False)\n",
       "            (fc_out): Linear(in_features=512, out_features=512, bias=True)\n",
       "          )\n",
       "          (norm1): LayerNorm((512,), eps=1e-05, elementwise_affine=True)\n",
       "          (norm2): LayerNorm((512,), eps=1e-05, elementwise_affine=True)\n",
       "          (dropout): Dropout(p=0, inplace=False)\n",
       "          (feed_forward): Sequential(\n",
       "            (0): Linear(in_features=512, out_features=2048, bias=True)\n",
       "            (1): ReLU()\n",
       "            (2): Linear(in_features=2048, out_features=512, bias=True)\n",
       "          )\n",
       "        )\n",
       "        (dropout): Dropout(p=0, inplace=False)\n",
       "      )\n",
       "      (4): DecoderBlock(\n",
       "        (norm): LayerNorm((512,), eps=1e-05, elementwise_affine=True)\n",
       "        (attention): SelfAttention(\n",
       "          (values): Linear(in_features=64, out_features=64, bias=False)\n",
       "          (keys): Linear(in_features=64, out_features=64, bias=False)\n",
       "          (queries): Linear(in_features=64, out_features=64, bias=False)\n",
       "          (fc_out): Linear(in_features=512, out_features=512, bias=True)\n",
       "        )\n",
       "        (transformer_block): TransformerBlock(\n",
       "          (attention): SelfAttention(\n",
       "            (values): Linear(in_features=64, out_features=64, bias=False)\n",
       "            (keys): Linear(in_features=64, out_features=64, bias=False)\n",
       "            (queries): Linear(in_features=64, out_features=64, bias=False)\n",
       "            (fc_out): Linear(in_features=512, out_features=512, bias=True)\n",
       "          )\n",
       "          (norm1): LayerNorm((512,), eps=1e-05, elementwise_affine=True)\n",
       "          (norm2): LayerNorm((512,), eps=1e-05, elementwise_affine=True)\n",
       "          (dropout): Dropout(p=0, inplace=False)\n",
       "          (feed_forward): Sequential(\n",
       "            (0): Linear(in_features=512, out_features=2048, bias=True)\n",
       "            (1): ReLU()\n",
       "            (2): Linear(in_features=2048, out_features=512, bias=True)\n",
       "          )\n",
       "        )\n",
       "        (dropout): Dropout(p=0, inplace=False)\n",
       "      )\n",
       "      (5): DecoderBlock(\n",
       "        (norm): LayerNorm((512,), eps=1e-05, elementwise_affine=True)\n",
       "        (attention): SelfAttention(\n",
       "          (values): Linear(in_features=64, out_features=64, bias=False)\n",
       "          (keys): Linear(in_features=64, out_features=64, bias=False)\n",
       "          (queries): Linear(in_features=64, out_features=64, bias=False)\n",
       "          (fc_out): Linear(in_features=512, out_features=512, bias=True)\n",
       "        )\n",
       "        (transformer_block): TransformerBlock(\n",
       "          (attention): SelfAttention(\n",
       "            (values): Linear(in_features=64, out_features=64, bias=False)\n",
       "            (keys): Linear(in_features=64, out_features=64, bias=False)\n",
       "            (queries): Linear(in_features=64, out_features=64, bias=False)\n",
       "            (fc_out): Linear(in_features=512, out_features=512, bias=True)\n",
       "          )\n",
       "          (norm1): LayerNorm((512,), eps=1e-05, elementwise_affine=True)\n",
       "          (norm2): LayerNorm((512,), eps=1e-05, elementwise_affine=True)\n",
       "          (dropout): Dropout(p=0, inplace=False)\n",
       "          (feed_forward): Sequential(\n",
       "            (0): Linear(in_features=512, out_features=2048, bias=True)\n",
       "            (1): ReLU()\n",
       "            (2): Linear(in_features=2048, out_features=512, bias=True)\n",
       "          )\n",
       "        )\n",
       "        (dropout): Dropout(p=0, inplace=False)\n",
       "      )\n",
       "    )\n",
       "  )\n",
       ")"
      ]
     },
     "execution_count": 238,
     "metadata": {},
     "output_type": "execute_result"
    }
   ],
   "source": [
    "model"
   ]
  },
  {
   "cell_type": "code",
   "execution_count": 243,
   "metadata": {
    "collapsed": true,
    "jupyter": {
     "outputs_hidden": true
    }
   },
   "outputs": [
    {
     "name": "stdout",
     "output_type": "stream",
     "text": [
      "0\n",
      "fetching... C:\\Users\\Alec\\OneDrive\\Documents\\Syracuse\\IST707-DataAnalytics\\project\\.data\\bejing_air_quality\\cleaned\\train\\PRSA_Data_Aotizhongxin_20130301-20170228.csv\n",
      "tensor([[-1.1193, -0.5948, -1.4131,  ...,  0.0000,  0.0000,  0.0000],\n",
      "        [-1.0773, -0.5948, -1.4131,  ...,  0.0000,  0.0000,  0.0000],\n",
      "        [-1.0878, -0.5510, -1.3320,  ...,  0.0000,  0.0000,  0.0000],\n",
      "        ...,\n",
      "        [-0.7732, -0.3319,  0.1813,  ...,  0.0000,  0.0000,  0.0000],\n",
      "        [-0.6998, -0.2442,  0.7488,  ...,  0.0000,  0.0000,  0.0000],\n",
      "        [-0.8361, -0.3319,  0.5326,  ...,  0.0000,  0.0000,  0.0000]],\n",
      "       device='cuda:0', dtype=torch.float64)\n",
      "\n"
     ]
    },
    {
     "ename": "RuntimeError",
     "evalue": "Expected tensor for argument #1 'indices' to have scalar type Long; but got torch.cuda.DoubleTensor instead (while checking arguments for embedding)",
     "output_type": "error",
     "traceback": [
      "\u001b[1;31m---------------------------------------------------------------------------\u001b[0m",
      "\u001b[1;31mRuntimeError\u001b[0m                              Traceback (most recent call last)",
      "\u001b[1;32m<ipython-input-243-7274e9cf7050>\u001b[0m in \u001b[0;36m<module>\u001b[1;34m\u001b[0m\n\u001b[0;32m      6\u001b[0m     \u001b[0my\u001b[0m \u001b[1;33m=\u001b[0m \u001b[0my\u001b[0m\u001b[1;33m[\u001b[0m\u001b[1;36m0\u001b[0m\u001b[1;33m]\u001b[0m\u001b[1;33m\u001b[0m\u001b[1;33m\u001b[0m\u001b[0m\n\u001b[0;32m      7\u001b[0m     \u001b[0mprint\u001b[0m\u001b[1;33m(\u001b[0m\u001b[1;33m)\u001b[0m\u001b[1;33m\u001b[0m\u001b[1;33m\u001b[0m\u001b[0m\n\u001b[1;32m----> 8\u001b[1;33m     \u001b[0mout\u001b[0m \u001b[1;33m=\u001b[0m \u001b[0mmodel\u001b[0m\u001b[1;33m(\u001b[0m\u001b[0mx\u001b[0m\u001b[1;33m,\u001b[0m \u001b[0my\u001b[0m\u001b[1;33m)\u001b[0m\u001b[1;33m\u001b[0m\u001b[1;33m\u001b[0m\u001b[0m\n\u001b[0m",
      "\u001b[1;32m~\\anaconda3\\lib\\site-packages\\torch\\nn\\modules\\module.py\u001b[0m in \u001b[0;36m_call_impl\u001b[1;34m(self, *input, **kwargs)\u001b[0m\n\u001b[0;32m    725\u001b[0m             \u001b[0mresult\u001b[0m \u001b[1;33m=\u001b[0m \u001b[0mself\u001b[0m\u001b[1;33m.\u001b[0m\u001b[0m_slow_forward\u001b[0m\u001b[1;33m(\u001b[0m\u001b[1;33m*\u001b[0m\u001b[0minput\u001b[0m\u001b[1;33m,\u001b[0m \u001b[1;33m**\u001b[0m\u001b[0mkwargs\u001b[0m\u001b[1;33m)\u001b[0m\u001b[1;33m\u001b[0m\u001b[1;33m\u001b[0m\u001b[0m\n\u001b[0;32m    726\u001b[0m         \u001b[1;32melse\u001b[0m\u001b[1;33m:\u001b[0m\u001b[1;33m\u001b[0m\u001b[1;33m\u001b[0m\u001b[0m\n\u001b[1;32m--> 727\u001b[1;33m             \u001b[0mresult\u001b[0m \u001b[1;33m=\u001b[0m \u001b[0mself\u001b[0m\u001b[1;33m.\u001b[0m\u001b[0mforward\u001b[0m\u001b[1;33m(\u001b[0m\u001b[1;33m*\u001b[0m\u001b[0minput\u001b[0m\u001b[1;33m,\u001b[0m \u001b[1;33m**\u001b[0m\u001b[0mkwargs\u001b[0m\u001b[1;33m)\u001b[0m\u001b[1;33m\u001b[0m\u001b[1;33m\u001b[0m\u001b[0m\n\u001b[0m\u001b[0;32m    728\u001b[0m         for hook in itertools.chain(\n\u001b[0;32m    729\u001b[0m                 \u001b[0m_global_forward_hooks\u001b[0m\u001b[1;33m.\u001b[0m\u001b[0mvalues\u001b[0m\u001b[1;33m(\u001b[0m\u001b[1;33m)\u001b[0m\u001b[1;33m,\u001b[0m\u001b[1;33m\u001b[0m\u001b[1;33m\u001b[0m\u001b[0m\n",
      "\u001b[1;32m<ipython-input-223-59381e78363e>\u001b[0m in \u001b[0;36mforward\u001b[1;34m(self, src, trg)\u001b[0m\n\u001b[0;32m    245\u001b[0m         \u001b[0msrc_mask\u001b[0m \u001b[1;33m=\u001b[0m \u001b[0mself\u001b[0m\u001b[1;33m.\u001b[0m\u001b[0mmake_src_mask\u001b[0m\u001b[1;33m(\u001b[0m\u001b[0msrc\u001b[0m\u001b[1;33m)\u001b[0m\u001b[1;33m\u001b[0m\u001b[1;33m\u001b[0m\u001b[0m\n\u001b[0;32m    246\u001b[0m         \u001b[0mtrg_mask\u001b[0m \u001b[1;33m=\u001b[0m \u001b[0mself\u001b[0m\u001b[1;33m.\u001b[0m\u001b[0mmake_trg_mask\u001b[0m\u001b[1;33m(\u001b[0m\u001b[0mtrg\u001b[0m\u001b[1;33m)\u001b[0m\u001b[1;33m\u001b[0m\u001b[1;33m\u001b[0m\u001b[0m\n\u001b[1;32m--> 247\u001b[1;33m         \u001b[0menc_src\u001b[0m \u001b[1;33m=\u001b[0m \u001b[0mself\u001b[0m\u001b[1;33m.\u001b[0m\u001b[0mencoder\u001b[0m\u001b[1;33m(\u001b[0m\u001b[0msrc\u001b[0m\u001b[1;33m,\u001b[0m \u001b[0msrc_mask\u001b[0m\u001b[1;33m)\u001b[0m\u001b[1;33m\u001b[0m\u001b[1;33m\u001b[0m\u001b[0m\n\u001b[0m\u001b[0;32m    248\u001b[0m         \u001b[0mout\u001b[0m \u001b[1;33m=\u001b[0m \u001b[0mself\u001b[0m\u001b[1;33m.\u001b[0m\u001b[0mdecoder\u001b[0m\u001b[1;33m(\u001b[0m\u001b[0mtrg\u001b[0m\u001b[1;33m,\u001b[0m \u001b[0menc_src\u001b[0m\u001b[1;33m,\u001b[0m \u001b[0msrc_mask\u001b[0m\u001b[1;33m,\u001b[0m \u001b[0mtrg_mask\u001b[0m\u001b[1;33m)\u001b[0m\u001b[1;33m\u001b[0m\u001b[1;33m\u001b[0m\u001b[0m\n\u001b[0;32m    249\u001b[0m         \u001b[1;32mreturn\u001b[0m \u001b[0mout\u001b[0m\u001b[1;33m\u001b[0m\u001b[1;33m\u001b[0m\u001b[0m\n",
      "\u001b[1;32m~\\anaconda3\\lib\\site-packages\\torch\\nn\\modules\\module.py\u001b[0m in \u001b[0;36m_call_impl\u001b[1;34m(self, *input, **kwargs)\u001b[0m\n\u001b[0;32m    725\u001b[0m             \u001b[0mresult\u001b[0m \u001b[1;33m=\u001b[0m \u001b[0mself\u001b[0m\u001b[1;33m.\u001b[0m\u001b[0m_slow_forward\u001b[0m\u001b[1;33m(\u001b[0m\u001b[1;33m*\u001b[0m\u001b[0minput\u001b[0m\u001b[1;33m,\u001b[0m \u001b[1;33m**\u001b[0m\u001b[0mkwargs\u001b[0m\u001b[1;33m)\u001b[0m\u001b[1;33m\u001b[0m\u001b[1;33m\u001b[0m\u001b[0m\n\u001b[0;32m    726\u001b[0m         \u001b[1;32melse\u001b[0m\u001b[1;33m:\u001b[0m\u001b[1;33m\u001b[0m\u001b[1;33m\u001b[0m\u001b[0m\n\u001b[1;32m--> 727\u001b[1;33m             \u001b[0mresult\u001b[0m \u001b[1;33m=\u001b[0m \u001b[0mself\u001b[0m\u001b[1;33m.\u001b[0m\u001b[0mforward\u001b[0m\u001b[1;33m(\u001b[0m\u001b[1;33m*\u001b[0m\u001b[0minput\u001b[0m\u001b[1;33m,\u001b[0m \u001b[1;33m**\u001b[0m\u001b[0mkwargs\u001b[0m\u001b[1;33m)\u001b[0m\u001b[1;33m\u001b[0m\u001b[1;33m\u001b[0m\u001b[0m\n\u001b[0m\u001b[0;32m    728\u001b[0m         for hook in itertools.chain(\n\u001b[0;32m    729\u001b[0m                 \u001b[0m_global_forward_hooks\u001b[0m\u001b[1;33m.\u001b[0m\u001b[0mvalues\u001b[0m\u001b[1;33m(\u001b[0m\u001b[1;33m)\u001b[0m\u001b[1;33m,\u001b[0m\u001b[1;33m\u001b[0m\u001b[1;33m\u001b[0m\u001b[0m\n",
      "\u001b[1;32m<ipython-input-223-59381e78363e>\u001b[0m in \u001b[0;36mforward\u001b[1;34m(self, x, mask)\u001b[0m\n\u001b[0;32m    122\u001b[0m         \u001b[0mpositions\u001b[0m \u001b[1;33m=\u001b[0m \u001b[0mtorch\u001b[0m\u001b[1;33m.\u001b[0m\u001b[0marange\u001b[0m\u001b[1;33m(\u001b[0m\u001b[1;36m0\u001b[0m\u001b[1;33m,\u001b[0m \u001b[0mseq_length\u001b[0m\u001b[1;33m)\u001b[0m\u001b[1;33m.\u001b[0m\u001b[0mexpand\u001b[0m\u001b[1;33m(\u001b[0m\u001b[0mN\u001b[0m\u001b[1;33m,\u001b[0m \u001b[0mseq_length\u001b[0m\u001b[1;33m)\u001b[0m\u001b[1;33m.\u001b[0m\u001b[0mto\u001b[0m\u001b[1;33m(\u001b[0m\u001b[0mself\u001b[0m\u001b[1;33m.\u001b[0m\u001b[0mdevice\u001b[0m\u001b[1;33m)\u001b[0m\u001b[1;33m\u001b[0m\u001b[1;33m\u001b[0m\u001b[0m\n\u001b[0;32m    123\u001b[0m         out = self.dropout(\n\u001b[1;32m--> 124\u001b[1;33m             \u001b[1;33m(\u001b[0m\u001b[0mself\u001b[0m\u001b[1;33m.\u001b[0m\u001b[0mword_embedding\u001b[0m\u001b[1;33m(\u001b[0m\u001b[0mx\u001b[0m\u001b[1;33m)\u001b[0m \u001b[1;33m+\u001b[0m \u001b[0mself\u001b[0m\u001b[1;33m.\u001b[0m\u001b[0mposition_embedding\u001b[0m\u001b[1;33m(\u001b[0m\u001b[0mpositions\u001b[0m\u001b[1;33m)\u001b[0m\u001b[1;33m)\u001b[0m\u001b[1;33m\u001b[0m\u001b[1;33m\u001b[0m\u001b[0m\n\u001b[0m\u001b[0;32m    125\u001b[0m         )\n\u001b[0;32m    126\u001b[0m \u001b[1;33m\u001b[0m\u001b[0m\n",
      "\u001b[1;32m~\\anaconda3\\lib\\site-packages\\torch\\nn\\modules\\module.py\u001b[0m in \u001b[0;36m_call_impl\u001b[1;34m(self, *input, **kwargs)\u001b[0m\n\u001b[0;32m    725\u001b[0m             \u001b[0mresult\u001b[0m \u001b[1;33m=\u001b[0m \u001b[0mself\u001b[0m\u001b[1;33m.\u001b[0m\u001b[0m_slow_forward\u001b[0m\u001b[1;33m(\u001b[0m\u001b[1;33m*\u001b[0m\u001b[0minput\u001b[0m\u001b[1;33m,\u001b[0m \u001b[1;33m**\u001b[0m\u001b[0mkwargs\u001b[0m\u001b[1;33m)\u001b[0m\u001b[1;33m\u001b[0m\u001b[1;33m\u001b[0m\u001b[0m\n\u001b[0;32m    726\u001b[0m         \u001b[1;32melse\u001b[0m\u001b[1;33m:\u001b[0m\u001b[1;33m\u001b[0m\u001b[1;33m\u001b[0m\u001b[0m\n\u001b[1;32m--> 727\u001b[1;33m             \u001b[0mresult\u001b[0m \u001b[1;33m=\u001b[0m \u001b[0mself\u001b[0m\u001b[1;33m.\u001b[0m\u001b[0mforward\u001b[0m\u001b[1;33m(\u001b[0m\u001b[1;33m*\u001b[0m\u001b[0minput\u001b[0m\u001b[1;33m,\u001b[0m \u001b[1;33m**\u001b[0m\u001b[0mkwargs\u001b[0m\u001b[1;33m)\u001b[0m\u001b[1;33m\u001b[0m\u001b[1;33m\u001b[0m\u001b[0m\n\u001b[0m\u001b[0;32m    728\u001b[0m         for hook in itertools.chain(\n\u001b[0;32m    729\u001b[0m                 \u001b[0m_global_forward_hooks\u001b[0m\u001b[1;33m.\u001b[0m\u001b[0mvalues\u001b[0m\u001b[1;33m(\u001b[0m\u001b[1;33m)\u001b[0m\u001b[1;33m,\u001b[0m\u001b[1;33m\u001b[0m\u001b[1;33m\u001b[0m\u001b[0m\n",
      "\u001b[1;32m~\\anaconda3\\lib\\site-packages\\torch\\nn\\modules\\sparse.py\u001b[0m in \u001b[0;36mforward\u001b[1;34m(self, input)\u001b[0m\n\u001b[0;32m    124\u001b[0m         return F.embedding(\n\u001b[0;32m    125\u001b[0m             \u001b[0minput\u001b[0m\u001b[1;33m,\u001b[0m \u001b[0mself\u001b[0m\u001b[1;33m.\u001b[0m\u001b[0mweight\u001b[0m\u001b[1;33m,\u001b[0m \u001b[0mself\u001b[0m\u001b[1;33m.\u001b[0m\u001b[0mpadding_idx\u001b[0m\u001b[1;33m,\u001b[0m \u001b[0mself\u001b[0m\u001b[1;33m.\u001b[0m\u001b[0mmax_norm\u001b[0m\u001b[1;33m,\u001b[0m\u001b[1;33m\u001b[0m\u001b[1;33m\u001b[0m\u001b[0m\n\u001b[1;32m--> 126\u001b[1;33m             self.norm_type, self.scale_grad_by_freq, self.sparse)\n\u001b[0m\u001b[0;32m    127\u001b[0m \u001b[1;33m\u001b[0m\u001b[0m\n\u001b[0;32m    128\u001b[0m     \u001b[1;32mdef\u001b[0m \u001b[0mextra_repr\u001b[0m\u001b[1;33m(\u001b[0m\u001b[0mself\u001b[0m\u001b[1;33m)\u001b[0m \u001b[1;33m->\u001b[0m \u001b[0mstr\u001b[0m\u001b[1;33m:\u001b[0m\u001b[1;33m\u001b[0m\u001b[1;33m\u001b[0m\u001b[0m\n",
      "\u001b[1;32m~\\anaconda3\\lib\\site-packages\\torch\\nn\\functional.py\u001b[0m in \u001b[0;36membedding\u001b[1;34m(input, weight, padding_idx, max_norm, norm_type, scale_grad_by_freq, sparse)\u001b[0m\n\u001b[0;32m   1850\u001b[0m         \u001b[1;31m# remove once script supports set_grad_enabled\u001b[0m\u001b[1;33m\u001b[0m\u001b[1;33m\u001b[0m\u001b[1;33m\u001b[0m\u001b[0m\n\u001b[0;32m   1851\u001b[0m         \u001b[0m_no_grad_embedding_renorm_\u001b[0m\u001b[1;33m(\u001b[0m\u001b[0mweight\u001b[0m\u001b[1;33m,\u001b[0m \u001b[0minput\u001b[0m\u001b[1;33m,\u001b[0m \u001b[0mmax_norm\u001b[0m\u001b[1;33m,\u001b[0m \u001b[0mnorm_type\u001b[0m\u001b[1;33m)\u001b[0m\u001b[1;33m\u001b[0m\u001b[1;33m\u001b[0m\u001b[0m\n\u001b[1;32m-> 1852\u001b[1;33m     \u001b[1;32mreturn\u001b[0m \u001b[0mtorch\u001b[0m\u001b[1;33m.\u001b[0m\u001b[0membedding\u001b[0m\u001b[1;33m(\u001b[0m\u001b[0mweight\u001b[0m\u001b[1;33m,\u001b[0m \u001b[0minput\u001b[0m\u001b[1;33m,\u001b[0m \u001b[0mpadding_idx\u001b[0m\u001b[1;33m,\u001b[0m \u001b[0mscale_grad_by_freq\u001b[0m\u001b[1;33m,\u001b[0m \u001b[0msparse\u001b[0m\u001b[1;33m)\u001b[0m\u001b[1;33m\u001b[0m\u001b[1;33m\u001b[0m\u001b[0m\n\u001b[0m\u001b[0;32m   1853\u001b[0m \u001b[1;33m\u001b[0m\u001b[0m\n\u001b[0;32m   1854\u001b[0m \u001b[1;33m\u001b[0m\u001b[0m\n",
      "\u001b[1;31mRuntimeError\u001b[0m: Expected tensor for argument #1 'indices' to have scalar type Long; but got torch.cuda.DoubleTensor instead (while checking arguments for embedding)"
     ]
    }
   ],
   "source": [
    "out = None\n",
    "\n",
    "for x, y in train_dl2:\n",
    "    x = x[0]\n",
    "    print(x)\n",
    "    y = y[0]\n",
    "    print()\n",
    "    out = model(x, y)"
   ]
  },
  {
   "cell_type": "code",
   "execution_count": null,
   "metadata": {},
   "outputs": [],
   "source": [
    "class BasicTransformer(nn.Module):\n",
    "    def __init__(\n",
    "        self,\n",
    "        input_seq_length,\n",
    "        output_seq_length = None,\n",
    "        d_model = 128,\n",
    "        heads = 8,\n",
    "        num_layers = 6\n",
    "        device=\"cuda\"):\n",
    "\n",
    "        super().__init__()\n",
    "        \n",
    "\n",
    "        if output_seq_length is None:\n",
    "            output_seq_length = input_seq_length\n",
    "        \n",
    "        self.input_seq_len = input_seq_length\n",
    "        self.output_seq_len = output_seq_len\n",
    "        self.input_pad_idx = input_pad_idx\n",
    "        self.output_pad_idx = output_pad_idx\n",
    "        \n",
    "        self.layers = num_layers\n",
    "        self.device = device\n",
    "        self.mask = self.make_mask(input_seq_length)\n",
    "        \n",
    "        \n",
    "        \n",
    "        \n",
    "\n",
    "    def make__mask(self, in_seq):\n",
    "        mask = (torch.triu(torch.ones(sz, sz)) == 1).transpose(0, 1)\n",
    "        src_mask = mask.float().masked_fill(mask == 0, float('-inf')).masked_fill(mask == 1, float(0.0))\n",
    "        return src_mask"
   ]
  },
  {
   "cell_type": "code",
   "execution_count": 595,
   "metadata": {},
   "outputs": [],
   "source": [
    "class PositionalEncoding(nn.Module):\n",
    "\n",
    "    def __init__(self, d_model, max_len):\n",
    "        super(PositionalEncoding, self).__init__()       \n",
    "        pe = torch.zeros(max_len, d_model).to(_device)\n",
    "        position = torch.arange(0, max_len, dtype=torch.float).unsqueeze(1).to(_device)\n",
    "        div_term = torch.exp(torch.arange(0, d_model, 2).float() * (-math.log(10000.0) / d_model)).to(_device)\n",
    "        pe[:, 0::2] = torch.sin(position * div_term)\n",
    "        pe[:, 1::2] = torch.cos(position * div_term)\n",
    "        pe = pe.unsqueeze(0).transpose(0, 1).to(_device)\n",
    "        #pe.requires_grad = False\n",
    "        self.register_buffer('pe', pe)\n",
    "\n",
    "    def forward(self, x):\n",
    "        return x + self.pe[:x.size(0), :].to(_device)\n",
    "       \n",
    "\n",
    "class TransAm(nn.Module):\n",
    "    def __init__(self,feature_size=250,num_layers=1,dropout=0.1, heads=10, device=None, max_enc_len=50000):\n",
    "        super(TransAm, self).__init__()\n",
    "        self.model_type = 'Transformer'\n",
    "        \n",
    "        self.heads = 10\n",
    "        self.src_mask = None\n",
    "        self.pos_encoder = PositionalEncoding(feature_size, max_enc_len)\n",
    "        self.encoder_layer = nn.TransformerEncoderLayer(d_model=feature_size, nhead=self.heads, dropout=dropout).to(_device)\n",
    "        self.transformer_encoder = nn.TransformerEncoder(self.encoder_layer, num_layers=num_layers).to(_device)\n",
    "        self.decoder = nn.Linear(feature_size,1).to(_device)\n",
    "        self.init_weights()\n",
    "        \n",
    "\n",
    "    def init_weights(self):\n",
    "        initrange = 0.1    \n",
    "        self.decoder.bias.data.zero_()\n",
    "        self.decoder.weight.data.uniform_(-initrange, initrange)\n",
    "\n",
    "    def forward(self,src):\n",
    "        if self.src_mask is None or self.src_mask.size(0) != len(src):\n",
    "            mask = self._generate_square_subsequent_mask(len(src)).to(_device)\n",
    "            self.src_mask = mask.to(_device)\n",
    "\n",
    "        src = self.pos_encoder(src).to(_device)\n",
    "        output = self.transformer_encoder(src,self.src_mask).to(_device)#, self.src_mask)\n",
    "        output = self.decoder(output).to(_device)\n",
    "        return output\n",
    "\n",
    "    def _generate_square_subsequent_mask(self, sz):\n",
    "        mask = (torch.triu(torch.ones(sz, sz)) == 1).transpose(0, 1).to(_device)\n",
    "        mask = mask.float().masked_fill(mask == 0, float('-inf')).masked_fill(mask == 1, float(0.0))\n",
    "        return mask.to(_device)\n"
   ]
  },
  {
   "cell_type": "code",
   "execution_count": 387,
   "metadata": {},
   "outputs": [
    {
     "name": "stdout",
     "output_type": "stream",
     "text": [
      "\n",
      "\n",
      "\n",
      "\n",
      "\n",
      "\n",
      "\n",
      "\n",
      "\n"
     ]
    }
   ],
   "source": [
    "out = None\n",
    "model = TransAm(feature_size=30)\n",
    "for x, y in train_dl2:\n",
    "    #x = x[0]\n",
    "    #print(x.float())\n",
    "    #y = y[0]\n",
    "    print()\n",
    "    x = x.float()\n",
    "    out = model(x)"
   ]
  },
  {
   "cell_type": "code",
   "execution_count": 383,
   "metadata": {},
   "outputs": [],
   "source": [
    "import time"
   ]
  },
  {
   "cell_type": "code",
   "execution_count": 463,
   "metadata": {},
   "outputs": [],
   "source": [
    "\n",
    "import torch.nn as nn\n",
    "criterion = nn.MSELoss().to(_device)\n",
    "optimizer = torch.optim.Adam(model.parameters())\n",
    "scheduler = torch.optim.lr_scheduler.StepLR(optimizer, 1.0)\n",
    "\n",
    "def train(train_data, model):\n",
    "    model.train()\n",
    "    total_loss = 0.\n",
    "    start_time = time.time()\n",
    "    losses = []\n",
    "    for batch, (X, y) in enumerate(train_data):\n",
    "        optimizer.zero_grad()\n",
    "        X = X.float()\n",
    "        y = y.float()\n",
    "        output = model(X)        \n",
    "        \n",
    "        loss = criterion(output, y)    \n",
    "        loss.backward()\n",
    "        #torch.nn.utils.clip_grad_norm_(model.parameters(), 0.5)\n",
    "        optimizer.step()\n",
    "        \n",
    "        losses.append(loss.item())\n",
    "        total_loss += loss.item()\n",
    "        log_interval = int(len(train_data) / batch_size / 5)\n",
    "        if batch % log_interval == 0 and batch > 0:\n",
    "            cur_loss = total_loss\n",
    "            elapsed = time.time() - start_time\n",
    "            print('epoch {}| {:5d}/{:5d} batches | '\n",
    "                  'lr {:02.6f} | {:5.2f} ms | '\n",
    "                  'loss {:5.5f} | ppl {:8.2f}'.format(epoch,\n",
    "                    batch, len(train_data) // batch_size, scheduler.get_lr()[0],\n",
    "                    elapsed,\n",
    "                    cur_loss, math.exp(cur_loss)))\n",
    "            total_loss = 0\n",
    "            start_time = time.time()\n",
    "    return losses"
   ]
  },
  {
   "cell_type": "code",
   "execution_count": 461,
   "metadata": {},
   "outputs": [],
   "source": [
    "#losses = train(train_dl2, model)"
   ]
  },
  {
   "cell_type": "code",
   "execution_count": 462,
   "metadata": {
    "collapsed": true,
    "jupyter": {
     "outputs_hidden": true
    }
   },
   "outputs": [
    {
     "name": "stdout",
     "output_type": "stream",
     "text": [
      "epoch 0|     1/    9 batches | lr 0.100000 |  0.96 ms | loss 2.51305 | ppl    12.34\n",
      "epoch 0|     2/    9 batches | lr 0.100000 |  0.29 ms | loss 1.25971 | ppl     3.52\n",
      "epoch 0|     3/    9 batches | lr 0.100000 |  0.31 ms | loss 1.26771 | ppl     3.55\n",
      "epoch 0|     4/    9 batches | lr 0.100000 |  0.30 ms | loss 1.27180 | ppl     3.57\n",
      "epoch 0|     5/    9 batches | lr 0.100000 |  0.31 ms | loss 1.24958 | ppl     3.49\n",
      "epoch 0|     6/    9 batches | lr 0.100000 |  0.28 ms | loss 1.25709 | ppl     3.52\n",
      "epoch 0|     7/    9 batches | lr 0.100000 |  0.31 ms | loss 1.27463 | ppl     3.58\n",
      "epoch 0|     8/    9 batches | lr 0.100000 |  0.30 ms | loss 1.25646 | ppl     3.51\n",
      "epoch 1|     1/    9 batches | lr 0.100000 |  0.59 ms | loss 2.51505 | ppl    12.37\n",
      "epoch 1|     2/    9 batches | lr 0.100000 |  0.31 ms | loss 1.25845 | ppl     3.52\n",
      "epoch 1|     3/    9 batches | lr 0.100000 |  0.28 ms | loss 1.26697 | ppl     3.55\n",
      "epoch 1|     4/    9 batches | lr 0.100000 |  0.33 ms | loss 1.27014 | ppl     3.56\n",
      "epoch 1|     5/    9 batches | lr 0.100000 |  0.31 ms | loss 1.24763 | ppl     3.48\n",
      "epoch 1|     6/    9 batches | lr 0.100000 |  0.29 ms | loss 1.25664 | ppl     3.51\n",
      "epoch 1|     7/    9 batches | lr 0.100000 |  0.31 ms | loss 1.27496 | ppl     3.58\n",
      "epoch 1|     8/    9 batches | lr 0.100000 |  0.32 ms | loss 1.25674 | ppl     3.51\n",
      "epoch 2|     1/    9 batches | lr 0.100000 |  0.56 ms | loss 2.51435 | ppl    12.36\n",
      "epoch 2|     2/    9 batches | lr 0.100000 |  0.28 ms | loss 1.25682 | ppl     3.51\n",
      "epoch 2|     3/    9 batches | lr 0.100000 |  0.28 ms | loss 1.26756 | ppl     3.55\n",
      "epoch 2|     4/    9 batches | lr 0.100000 |  0.28 ms | loss 1.27199 | ppl     3.57\n",
      "epoch 2|     5/    9 batches | lr 0.100000 |  0.28 ms | loss 1.24848 | ppl     3.49\n",
      "epoch 2|     6/    9 batches | lr 0.100000 |  0.28 ms | loss 1.25782 | ppl     3.52\n",
      "epoch 2|     7/    9 batches | lr 0.100000 |  0.28 ms | loss 1.27530 | ppl     3.58\n",
      "epoch 2|     8/    9 batches | lr 0.100000 |  0.29 ms | loss 1.25720 | ppl     3.52\n",
      "epoch 3|     1/    9 batches | lr 0.100000 |  0.64 ms | loss 2.51240 | ppl    12.33\n",
      "epoch 3|     2/    9 batches | lr 0.100000 |  0.32 ms | loss 1.25649 | ppl     3.51\n",
      "epoch 3|     3/    9 batches | lr 0.100000 |  0.33 ms | loss 1.26678 | ppl     3.55\n",
      "epoch 3|     4/    9 batches | lr 0.100000 |  0.33 ms | loss 1.27135 | ppl     3.57\n",
      "epoch 3|     5/    9 batches | lr 0.100000 |  0.31 ms | loss 1.24879 | ppl     3.49\n",
      "epoch 3|     6/    9 batches | lr 0.100000 |  0.39 ms | loss 1.25717 | ppl     3.52\n",
      "epoch 3|     7/    9 batches | lr 0.100000 |  0.34 ms | loss 1.27423 | ppl     3.58\n",
      "epoch 3|     8/    9 batches | lr 0.100000 |  0.32 ms | loss 1.25846 | ppl     3.52\n",
      "epoch 4|     1/    9 batches | lr 0.100000 |  0.60 ms | loss 2.51303 | ppl    12.34\n",
      "epoch 4|     2/    9 batches | lr 0.100000 |  0.29 ms | loss 1.25824 | ppl     3.52\n",
      "epoch 4|     3/    9 batches | lr 0.100000 |  0.34 ms | loss 1.26786 | ppl     3.55\n",
      "epoch 4|     4/    9 batches | lr 0.100000 |  0.30 ms | loss 1.27130 | ppl     3.57\n",
      "epoch 4|     5/    9 batches | lr 0.100000 |  0.29 ms | loss 1.24787 | ppl     3.48\n",
      "epoch 4|     6/    9 batches | lr 0.100000 |  0.34 ms | loss 1.25610 | ppl     3.51\n",
      "epoch 4|     7/    9 batches | lr 0.100000 |  0.30 ms | loss 1.27549 | ppl     3.58\n",
      "epoch 4|     8/    9 batches | lr 0.100000 |  0.28 ms | loss 1.25819 | ppl     3.52\n",
      "epoch 5|     1/    9 batches | lr 0.100000 |  0.63 ms | loss 2.51319 | ppl    12.34\n",
      "epoch 5|     2/    9 batches | lr 0.100000 |  0.35 ms | loss 1.25632 | ppl     3.51\n",
      "epoch 5|     3/    9 batches | lr 0.100000 |  0.30 ms | loss 1.26700 | ppl     3.55\n",
      "epoch 5|     4/    9 batches | lr 0.100000 |  0.32 ms | loss 1.27203 | ppl     3.57\n",
      "epoch 5|     5/    9 batches | lr 0.100000 |  0.31 ms | loss 1.24844 | ppl     3.48\n",
      "epoch 5|     6/    9 batches | lr 0.100000 |  0.31 ms | loss 1.25698 | ppl     3.51\n",
      "epoch 5|     7/    9 batches | lr 0.100000 |  0.31 ms | loss 1.27386 | ppl     3.57\n",
      "epoch 5|     8/    9 batches | lr 0.100000 |  0.30 ms | loss 1.25788 | ppl     3.52\n",
      "epoch 6|     1/    9 batches | lr 0.100000 |  0.57 ms | loss 2.51544 | ppl    12.37\n",
      "epoch 6|     2/    9 batches | lr 0.100000 |  0.32 ms | loss 1.25687 | ppl     3.51\n",
      "epoch 6|     3/    9 batches | lr 0.100000 |  0.28 ms | loss 1.26932 | ppl     3.56\n",
      "epoch 6|     4/    9 batches | lr 0.100000 |  0.30 ms | loss 1.27108 | ppl     3.56\n",
      "epoch 6|     5/    9 batches | lr 0.100000 |  0.30 ms | loss 1.24864 | ppl     3.49\n",
      "epoch 6|     6/    9 batches | lr 0.100000 |  0.31 ms | loss 1.25736 | ppl     3.52\n",
      "epoch 6|     7/    9 batches | lr 0.100000 |  0.30 ms | loss 1.27520 | ppl     3.58\n",
      "epoch 6|     8/    9 batches | lr 0.100000 |  0.32 ms | loss 1.25804 | ppl     3.52\n",
      "epoch 7|     1/    9 batches | lr 0.100000 |  0.60 ms | loss 2.51324 | ppl    12.34\n",
      "epoch 7|     2/    9 batches | lr 0.100000 |  0.32 ms | loss 1.25897 | ppl     3.52\n",
      "epoch 7|     3/    9 batches | lr 0.100000 |  0.35 ms | loss 1.26674 | ppl     3.55\n",
      "epoch 7|     4/    9 batches | lr 0.100000 |  0.31 ms | loss 1.27174 | ppl     3.57\n",
      "epoch 7|     5/    9 batches | lr 0.100000 |  0.30 ms | loss 1.24969 | ppl     3.49\n",
      "epoch 7|     6/    9 batches | lr 0.100000 |  0.33 ms | loss 1.25831 | ppl     3.52\n",
      "epoch 7|     7/    9 batches | lr 0.100000 |  0.34 ms | loss 1.27417 | ppl     3.58\n",
      "epoch 7|     8/    9 batches | lr 0.100000 |  0.33 ms | loss 1.25803 | ppl     3.52\n",
      "epoch 8|     1/    9 batches | lr 0.100000 |  0.67 ms | loss 2.51656 | ppl    12.39\n",
      "epoch 8|     2/    9 batches | lr 0.100000 |  0.32 ms | loss 1.25755 | ppl     3.52\n",
      "epoch 8|     3/    9 batches | lr 0.100000 |  0.35 ms | loss 1.26735 | ppl     3.55\n",
      "epoch 8|     4/    9 batches | lr 0.100000 |  0.33 ms | loss 1.26994 | ppl     3.56\n",
      "epoch 8|     5/    9 batches | lr 0.100000 |  0.33 ms | loss 1.24886 | ppl     3.49\n",
      "epoch 8|     6/    9 batches | lr 0.100000 |  0.30 ms | loss 1.25711 | ppl     3.52\n",
      "epoch 8|     7/    9 batches | lr 0.100000 |  0.36 ms | loss 1.27565 | ppl     3.58\n",
      "epoch 8|     8/    9 batches | lr 0.100000 |  0.30 ms | loss 1.25645 | ppl     3.51\n",
      "epoch 9|     1/    9 batches | lr 0.100000 |  0.61 ms | loss 2.51331 | ppl    12.35\n",
      "epoch 9|     2/    9 batches | lr 0.100000 |  0.31 ms | loss 1.25649 | ppl     3.51\n",
      "epoch 9|     3/    9 batches | lr 0.100000 |  0.31 ms | loss 1.26877 | ppl     3.56\n",
      "epoch 9|     4/    9 batches | lr 0.100000 |  0.30 ms | loss 1.27164 | ppl     3.57\n",
      "epoch 9|     5/    9 batches | lr 0.100000 |  0.32 ms | loss 1.24787 | ppl     3.48\n",
      "epoch 9|     6/    9 batches | lr 0.100000 |  0.32 ms | loss 1.25652 | ppl     3.51\n",
      "epoch 9|     7/    9 batches | lr 0.100000 |  0.37 ms | loss 1.27463 | ppl     3.58\n",
      "epoch 9|     8/    9 batches | lr 0.100000 |  0.36 ms | loss 1.25575 | ppl     3.51\n",
      "epoch 10|     1/    9 batches | lr 0.100000 |  0.65 ms | loss 2.51294 | ppl    12.34\n",
      "epoch 10|     2/    9 batches | lr 0.100000 |  0.31 ms | loss 1.25729 | ppl     3.52\n",
      "epoch 10|     3/    9 batches | lr 0.100000 |  0.33 ms | loss 1.26899 | ppl     3.56\n",
      "epoch 10|     4/    9 batches | lr 0.100000 |  0.35 ms | loss 1.27060 | ppl     3.56\n",
      "epoch 10|     5/    9 batches | lr 0.100000 |  0.31 ms | loss 1.24950 | ppl     3.49\n",
      "epoch 10|     6/    9 batches | lr 0.100000 |  0.31 ms | loss 1.25785 | ppl     3.52\n",
      "epoch 10|     7/    9 batches | lr 0.100000 |  0.32 ms | loss 1.27455 | ppl     3.58\n",
      "epoch 10|     8/    9 batches | lr 0.100000 |  0.30 ms | loss 1.25754 | ppl     3.52\n",
      "epoch 11|     1/    9 batches | lr 0.100000 |  0.61 ms | loss 2.51445 | ppl    12.36\n",
      "epoch 11|     2/    9 batches | lr 0.100000 |  0.30 ms | loss 1.25684 | ppl     3.51\n",
      "epoch 11|     3/    9 batches | lr 0.100000 |  0.31 ms | loss 1.26704 | ppl     3.55\n",
      "epoch 11|     4/    9 batches | lr 0.100000 |  0.30 ms | loss 1.27171 | ppl     3.57\n",
      "epoch 11|     5/    9 batches | lr 0.100000 |  0.33 ms | loss 1.24775 | ppl     3.48\n",
      "epoch 11|     6/    9 batches | lr 0.100000 |  0.30 ms | loss 1.25838 | ppl     3.52\n",
      "epoch 11|     7/    9 batches | lr 0.100000 |  0.32 ms | loss 1.27389 | ppl     3.57\n",
      "epoch 11|     8/    9 batches | lr 0.100000 |  0.30 ms | loss 1.25686 | ppl     3.51\n",
      "epoch 12|     1/    9 batches | lr 0.100000 |  0.64 ms | loss 2.51403 | ppl    12.35\n",
      "epoch 12|     2/    9 batches | lr 0.100000 |  0.31 ms | loss 1.25703 | ppl     3.51\n",
      "epoch 12|     3/    9 batches | lr 0.100000 |  0.30 ms | loss 1.26839 | ppl     3.56\n",
      "epoch 12|     4/    9 batches | lr 0.100000 |  0.32 ms | loss 1.27116 | ppl     3.56\n",
      "epoch 12|     5/    9 batches | lr 0.100000 |  0.32 ms | loss 1.24912 | ppl     3.49\n",
      "epoch 12|     6/    9 batches | lr 0.100000 |  0.34 ms | loss 1.25639 | ppl     3.51\n",
      "epoch 12|     7/    9 batches | lr 0.100000 |  0.30 ms | loss 1.27294 | ppl     3.57\n",
      "epoch 12|     8/    9 batches | lr 0.100000 |  0.33 ms | loss 1.25527 | ppl     3.51\n",
      "epoch 13|     1/    9 batches | lr 0.100000 |  0.66 ms | loss 2.51603 | ppl    12.38\n",
      "epoch 13|     2/    9 batches | lr 0.100000 |  0.29 ms | loss 1.25698 | ppl     3.51\n",
      "epoch 13|     3/    9 batches | lr 0.100000 |  0.31 ms | loss 1.26738 | ppl     3.55\n",
      "epoch 13|     4/    9 batches | lr 0.100000 |  0.33 ms | loss 1.27106 | ppl     3.56\n",
      "epoch 13|     5/    9 batches | lr 0.100000 |  0.37 ms | loss 1.24824 | ppl     3.48\n",
      "epoch 13|     6/    9 batches | lr 0.100000 |  0.39 ms | loss 1.25797 | ppl     3.52\n",
      "epoch 13|     7/    9 batches | lr 0.100000 |  0.39 ms | loss 1.27349 | ppl     3.57\n",
      "epoch 13|     8/    9 batches | lr 0.100000 |  0.33 ms | loss 1.25750 | ppl     3.52\n",
      "epoch 14|     1/    9 batches | lr 0.100000 |  0.68 ms | loss 2.51583 | ppl    12.38\n",
      "epoch 14|     2/    9 batches | lr 0.100000 |  0.31 ms | loss 1.25597 | ppl     3.51\n",
      "epoch 14|     3/    9 batches | lr 0.100000 |  0.33 ms | loss 1.26868 | ppl     3.56\n",
      "epoch 14|     4/    9 batches | lr 0.100000 |  0.33 ms | loss 1.27077 | ppl     3.56\n",
      "epoch 14|     5/    9 batches | lr 0.100000 |  0.31 ms | loss 1.24684 | ppl     3.48\n",
      "epoch 14|     6/    9 batches | lr 0.100000 |  0.30 ms | loss 1.25726 | ppl     3.52\n",
      "epoch 14|     7/    9 batches | lr 0.100000 |  0.31 ms | loss 1.27489 | ppl     3.58\n",
      "epoch 14|     8/    9 batches | lr 0.100000 |  0.30 ms | loss 1.25792 | ppl     3.52\n",
      "epoch 15|     1/    9 batches | lr 0.100000 |  0.65 ms | loss 2.51381 | ppl    12.35\n",
      "epoch 15|     2/    9 batches | lr 0.100000 |  0.32 ms | loss 1.25804 | ppl     3.52\n",
      "epoch 15|     3/    9 batches | lr 0.100000 |  0.35 ms | loss 1.26676 | ppl     3.55\n",
      "epoch 15|     4/    9 batches | lr 0.100000 |  0.31 ms | loss 1.27038 | ppl     3.56\n",
      "epoch 15|     5/    9 batches | lr 0.100000 |  0.35 ms | loss 1.24751 | ppl     3.48\n",
      "epoch 15|     6/    9 batches | lr 0.100000 |  0.33 ms | loss 1.25591 | ppl     3.51\n",
      "epoch 15|     7/    9 batches | lr 0.100000 |  0.34 ms | loss 1.27464 | ppl     3.58\n",
      "epoch 15|     8/    9 batches | lr 0.100000 |  0.30 ms | loss 1.25653 | ppl     3.51\n",
      "epoch 16|     1/    9 batches | lr 0.100000 |  0.68 ms | loss 2.51191 | ppl    12.33\n",
      "epoch 16|     2/    9 batches | lr 0.100000 |  0.28 ms | loss 1.25468 | ppl     3.51\n",
      "epoch 16|     3/    9 batches | lr 0.100000 |  0.28 ms | loss 1.26842 | ppl     3.56\n",
      "epoch 16|     4/    9 batches | lr 0.100000 |  0.31 ms | loss 1.27326 | ppl     3.57\n",
      "epoch 16|     5/    9 batches | lr 0.100000 |  0.30 ms | loss 1.24735 | ppl     3.48\n",
      "epoch 16|     6/    9 batches | lr 0.100000 |  0.32 ms | loss 1.25617 | ppl     3.51\n",
      "epoch 16|     7/    9 batches | lr 0.100000 |  0.32 ms | loss 1.27483 | ppl     3.58\n",
      "epoch 16|     8/    9 batches | lr 0.100000 |  0.32 ms | loss 1.25522 | ppl     3.51\n",
      "epoch 17|     1/    9 batches | lr 0.100000 |  0.66 ms | loss 2.51248 | ppl    12.34\n",
      "epoch 17|     2/    9 batches | lr 0.100000 |  0.33 ms | loss 1.25676 | ppl     3.51\n",
      "epoch 17|     3/    9 batches | lr 0.100000 |  0.29 ms | loss 1.26807 | ppl     3.55\n",
      "epoch 17|     4/    9 batches | lr 0.100000 |  0.32 ms | loss 1.27033 | ppl     3.56\n",
      "epoch 17|     5/    9 batches | lr 0.100000 |  0.31 ms | loss 1.24857 | ppl     3.49\n",
      "epoch 17|     6/    9 batches | lr 0.100000 |  0.30 ms | loss 1.25663 | ppl     3.51\n",
      "epoch 17|     7/    9 batches | lr 0.100000 |  0.30 ms | loss 1.27402 | ppl     3.58\n",
      "epoch 17|     8/    9 batches | lr 0.100000 |  0.28 ms | loss 1.25724 | ppl     3.52\n",
      "epoch 18|     1/    9 batches | lr 0.100000 |  0.59 ms | loss 2.51360 | ppl    12.35\n",
      "epoch 18|     2/    9 batches | lr 0.100000 |  0.30 ms | loss 1.25618 | ppl     3.51\n",
      "epoch 18|     3/    9 batches | lr 0.100000 |  0.30 ms | loss 1.26865 | ppl     3.56\n",
      "epoch 18|     4/    9 batches | lr 0.100000 |  0.28 ms | loss 1.27368 | ppl     3.57\n",
      "epoch 18|     5/    9 batches | lr 0.100000 |  0.29 ms | loss 1.24846 | ppl     3.48\n",
      "epoch 18|     6/    9 batches | lr 0.100000 |  0.27 ms | loss 1.25727 | ppl     3.52\n",
      "epoch 18|     7/    9 batches | lr 0.100000 |  0.28 ms | loss 1.27410 | ppl     3.58\n",
      "epoch 18|     8/    9 batches | lr 0.100000 |  0.28 ms | loss 1.25733 | ppl     3.52\n",
      "epoch 19|     1/    9 batches | lr 0.100000 |  0.58 ms | loss 2.51325 | ppl    12.34\n",
      "epoch 19|     2/    9 batches | lr 0.100000 |  0.28 ms | loss 1.25657 | ppl     3.51\n",
      "epoch 19|     3/    9 batches | lr 0.100000 |  0.28 ms | loss 1.26923 | ppl     3.56\n",
      "epoch 19|     4/    9 batches | lr 0.100000 |  0.29 ms | loss 1.27109 | ppl     3.56\n",
      "epoch 19|     5/    9 batches | lr 0.100000 |  0.29 ms | loss 1.24839 | ppl     3.48\n",
      "epoch 19|     6/    9 batches | lr 0.100000 |  0.29 ms | loss 1.25627 | ppl     3.51\n",
      "epoch 19|     7/    9 batches | lr 0.100000 |  0.30 ms | loss 1.27231 | ppl     3.57\n",
      "epoch 19|     8/    9 batches | lr 0.100000 |  0.29 ms | loss 1.25919 | ppl     3.52\n",
      "epoch 20|     1/    9 batches | lr 0.100000 |  0.57 ms | loss 2.51508 | ppl    12.37\n",
      "epoch 20|     2/    9 batches | lr 0.100000 |  0.28 ms | loss 1.25823 | ppl     3.52\n",
      "epoch 20|     3/    9 batches | lr 0.100000 |  0.29 ms | loss 1.26785 | ppl     3.55\n",
      "epoch 20|     4/    9 batches | lr 0.100000 |  0.29 ms | loss 1.27152 | ppl     3.57\n",
      "epoch 20|     5/    9 batches | lr 0.100000 |  0.29 ms | loss 1.24734 | ppl     3.48\n",
      "epoch 20|     6/    9 batches | lr 0.100000 |  0.28 ms | loss 1.25867 | ppl     3.52\n",
      "epoch 20|     7/    9 batches | lr 0.100000 |  0.28 ms | loss 1.27654 | ppl     3.58\n",
      "epoch 20|     8/    9 batches | lr 0.100000 |  0.28 ms | loss 1.25702 | ppl     3.51\n",
      "epoch 21|     1/    9 batches | lr 0.100000 |  0.57 ms | loss 2.51294 | ppl    12.34\n",
      "epoch 21|     2/    9 batches | lr 0.100000 |  0.30 ms | loss 1.25790 | ppl     3.52\n",
      "epoch 21|     3/    9 batches | lr 0.100000 |  0.28 ms | loss 1.26924 | ppl     3.56\n",
      "epoch 21|     4/    9 batches | lr 0.100000 |  0.28 ms | loss 1.27048 | ppl     3.56\n",
      "epoch 21|     5/    9 batches | lr 0.100000 |  0.29 ms | loss 1.24739 | ppl     3.48\n",
      "epoch 21|     6/    9 batches | lr 0.100000 |  0.27 ms | loss 1.25668 | ppl     3.51\n",
      "epoch 21|     7/    9 batches | lr 0.100000 |  0.30 ms | loss 1.27325 | ppl     3.57\n",
      "epoch 21|     8/    9 batches | lr 0.100000 |  0.29 ms | loss 1.25896 | ppl     3.52\n",
      "epoch 22|     1/    9 batches | lr 0.100000 |  0.56 ms | loss 2.51304 | ppl    12.34\n",
      "epoch 22|     2/    9 batches | lr 0.100000 |  0.32 ms | loss 1.25444 | ppl     3.51\n",
      "epoch 22|     3/    9 batches | lr 0.100000 |  0.32 ms | loss 1.26828 | ppl     3.55\n",
      "epoch 22|     4/    9 batches | lr 0.100000 |  0.35 ms | loss 1.27114 | ppl     3.56\n",
      "epoch 22|     5/    9 batches | lr 0.100000 |  0.31 ms | loss 1.24952 | ppl     3.49\n",
      "epoch 22|     6/    9 batches | lr 0.100000 |  0.28 ms | loss 1.25697 | ppl     3.51\n",
      "epoch 22|     7/    9 batches | lr 0.100000 |  0.34 ms | loss 1.27543 | ppl     3.58\n",
      "epoch 22|     8/    9 batches | lr 0.100000 |  0.27 ms | loss 1.25843 | ppl     3.52\n",
      "epoch 23|     1/    9 batches | lr 0.100000 |  0.60 ms | loss 2.51330 | ppl    12.35\n",
      "epoch 23|     2/    9 batches | lr 0.100000 |  0.30 ms | loss 1.25697 | ppl     3.51\n",
      "epoch 23|     3/    9 batches | lr 0.100000 |  0.29 ms | loss 1.26831 | ppl     3.55\n",
      "epoch 23|     4/    9 batches | lr 0.100000 |  0.28 ms | loss 1.27100 | ppl     3.56\n",
      "epoch 23|     5/    9 batches | lr 0.100000 |  0.34 ms | loss 1.24862 | ppl     3.49\n",
      "epoch 23|     6/    9 batches | lr 0.100000 |  0.30 ms | loss 1.25842 | ppl     3.52\n",
      "epoch 23|     7/    9 batches | lr 0.100000 |  0.32 ms | loss 1.27395 | ppl     3.57\n",
      "epoch 23|     8/    9 batches | lr 0.100000 |  0.33 ms | loss 1.25482 | ppl     3.51\n",
      "epoch 24|     1/    9 batches | lr 0.100000 |  0.63 ms | loss 2.51304 | ppl    12.34\n",
      "epoch 24|     2/    9 batches | lr 0.100000 |  0.36 ms | loss 1.25770 | ppl     3.52\n",
      "epoch 24|     3/    9 batches | lr 0.100000 |  0.34 ms | loss 1.26783 | ppl     3.55\n",
      "epoch 24|     4/    9 batches | lr 0.100000 |  0.30 ms | loss 1.26947 | ppl     3.56\n",
      "epoch 24|     5/    9 batches | lr 0.100000 |  0.28 ms | loss 1.24835 | ppl     3.48\n",
      "epoch 24|     6/    9 batches | lr 0.100000 |  0.35 ms | loss 1.25750 | ppl     3.52\n",
      "epoch 24|     7/    9 batches | lr 0.100000 |  0.32 ms | loss 1.27458 | ppl     3.58\n",
      "epoch 24|     8/    9 batches | lr 0.100000 |  0.31 ms | loss 1.25731 | ppl     3.52\n"
     ]
    }
   ],
   "source": [
    "model = TransAm(feature_size=30, max_enc_len=500)\n",
    "for epoch in range(25):\n",
    "    train(train_dl2, model)"
   ]
  },
  {
   "cell_type": "code",
   "execution_count": 596,
   "metadata": {
    "collapsed": true,
    "jupyter": {
     "outputs_hidden": true
    }
   },
   "outputs": [
    {
     "name": "stdout",
     "output_type": "stream",
     "text": [
      "[1,     9], total_loss 4.885,  lossL 0.543\n",
      "[2,     9], total_loss 2.816,  lossL 0.313\n",
      "[3,     9], total_loss 2.429,  lossL 0.270\n",
      "[4,     9], total_loss 2.205,  lossL 0.245\n",
      "[5,     9], total_loss 2.023,  lossL 0.225\n",
      "[6,     9], total_loss 1.891,  lossL 0.210\n",
      "[7,     9], total_loss 1.771,  lossL 0.197\n",
      "[8,     9], total_loss 1.672,  lossL 0.186\n",
      "[9,     9], total_loss 1.589,  lossL 0.177\n",
      "[10,     9], total_loss 1.525,  lossL 0.169\n",
      "[11,     9], total_loss 1.469,  lossL 0.163\n",
      "[12,     9], total_loss 1.428,  lossL 0.159\n",
      "[13,     9], total_loss 1.395,  lossL 0.155\n",
      "[14,     9], total_loss 1.364,  lossL 0.152\n",
      "[15,     9], total_loss 1.331,  lossL 0.148\n",
      "[16,     9], total_loss 1.307,  lossL 0.145\n",
      "[17,     9], total_loss 1.283,  lossL 0.143\n",
      "[18,     9], total_loss 1.257,  lossL 0.140\n",
      "[19,     9], total_loss 1.235,  lossL 0.137\n",
      "[20,     9], total_loss 1.210,  lossL 0.134\n",
      "[21,     9], total_loss 1.189,  lossL 0.132\n",
      "[22,     9], total_loss 1.169,  lossL 0.130\n",
      "[23,     9], total_loss 1.162,  lossL 0.129\n",
      "[24,     9], total_loss 1.151,  lossL 0.128\n",
      "[25,     9], total_loss 1.143,  lossL 0.127\n",
      "[26,     9], total_loss 1.128,  lossL 0.125\n",
      "[27,     9], total_loss 1.124,  lossL 0.125\n",
      "[28,     9], total_loss 1.114,  lossL 0.124\n",
      "[29,     9], total_loss 1.103,  lossL 0.123\n",
      "[30,     9], total_loss 1.092,  lossL 0.121\n",
      "[31,     9], total_loss 1.080,  lossL 0.120\n",
      "[32,     9], total_loss 1.067,  lossL 0.119\n",
      "[33,     9], total_loss 1.055,  lossL 0.117\n",
      "[34,     9], total_loss 1.045,  lossL 0.116\n",
      "[35,     9], total_loss 1.035,  lossL 0.115\n",
      "[36,     9], total_loss 1.027,  lossL 0.114\n",
      "[37,     9], total_loss 1.023,  lossL 0.114\n",
      "[38,     9], total_loss 1.023,  lossL 0.114\n",
      "[39,     9], total_loss 1.018,  lossL 0.113\n",
      "[40,     9], total_loss 1.013,  lossL 0.113\n",
      "[41,     9], total_loss 1.008,  lossL 0.112\n",
      "[42,     9], total_loss 1.004,  lossL 0.112\n",
      "[43,     9], total_loss 0.999,  lossL 0.111\n",
      "[44,     9], total_loss 0.992,  lossL 0.110\n",
      "[45,     9], total_loss 0.984,  lossL 0.109\n",
      "[46,     9], total_loss 0.976,  lossL 0.108\n",
      "[47,     9], total_loss 0.971,  lossL 0.108\n",
      "[48,     9], total_loss 0.962,  lossL 0.107\n",
      "[49,     9], total_loss 0.958,  lossL 0.106\n",
      "[50,     9], total_loss 0.958,  lossL 0.106\n"
     ]
    }
   ],
   "source": [
    "model = TransAm(feature_size=30, max_enc_len=5000)\n",
    "criterion = nn.MSELoss().to(_device)\n",
    "optimizer = torch.optim.Adam(model.parameters())\n",
    "#scheduler = torch.optim.lr_scheduler.StepLR(optimizer, 1.0)\n",
    "\n",
    "#def train_model(m)\n",
    "for epoch in range(50):\n",
    "    running_loss = 0.0\n",
    "    losses = []\n",
    "    for i, data in enumerate(train_dl2):\n",
    "\n",
    "        # get the inputs; data is a list of [inputs, labels]\n",
    "        inputs, y = data[0].to(_device), data[1].to(_device)\n",
    "        inputs = inputs.float()\n",
    "        y = y.float()\n",
    "        # zero the paramter gradients\n",
    "        optimizer.zero_grad()\n",
    "\n",
    "        # forward + backward + optimize\n",
    "        outputs = model(inputs)\n",
    "        loss = criterion(outputs, y)\n",
    "        loss.backward()\n",
    "        optimizer.step()\n",
    "\n",
    "        # print statistics\n",
    "        losses.append(loss.item())\n",
    "        running_loss += loss.item()\n",
    "        #print(\"batch: {} ! loss: {}\".format(i, running_loss))\n",
    "\n",
    "        if i % 9 == 8:\n",
    "            print('[%d, %5d], total_loss %.3f,  lossL %.3f' %\n",
    "                  (epoch + 1, i + 1, running_loss, running_loss / 9))\n",
    "            running_loss = 0.0\n",
    "            \n",
    "torch.save(model, \"./.models/transformer_1.pth\")"
   ]
  },
  {
   "cell_type": "code",
   "execution_count": 574,
   "metadata": {},
   "outputs": [
    {
     "name": "stdout",
     "output_type": "stream",
     "text": [
      "[1,     9], total_loss 4.511,  lossL 0.501\n",
      "[2,     9], total_loss 2.812,  lossL 0.312\n",
      "[3,     9], total_loss 2.470,  lossL 0.274\n",
      "[4,     9], total_loss 2.214,  lossL 0.246\n",
      "[5,     9], total_loss 2.001,  lossL 0.222\n"
     ]
    }
   ],
   "source": [
    "model2 = TransAm(feature_size=30, max_enc_len=10000)\n",
    "criterion = nn.MSELoss().to(_device)\n",
    "optimizer = torch.optim.Adam(model2.parameters())\n",
    "#scheduler = torch.optim.lr_scheduler.StepLR(optimizer, 1.0)\n",
    "\n",
    "#def train_model(m)\n",
    "for epoch in range(5):\n",
    "    running_loss = 0.0\n",
    "    losses = []\n",
    "    for i, data in enumerate(train_dl2):\n",
    "\n",
    "        # get the inputs; data is a list of [inputs, labels]\n",
    "        inputs, y = data[0].to(_device), data[1].to(_device)\n",
    "        inputs = inputs.float()\n",
    "        y = y.float()\n",
    "        # zero the paramter gradients\n",
    "        optimizer.zero_grad()\n",
    "\n",
    "        # forward + backward + optimize\n",
    "        outputs = model2(inputs)\n",
    "        loss = criterion(outputs, y)\n",
    "        loss.backward()\n",
    "        optimizer.step()\n",
    "\n",
    "        # print statistics\n",
    "        losses.append(loss.item())\n",
    "        running_loss += loss.item()\n",
    "        #print(\"batch: {} ! loss: {}\".format(i, running_loss))\n",
    "\n",
    "        if i % 9 == 8:\n",
    "            print('[%d, %5d], total_loss %.3f,  lossL %.3f' %\n",
    "                  (epoch + 1, i + 1, running_loss, running_loss / 9))\n",
    "            running_loss = 0.0\n",
    "            \n",
    "torch.save(model2, \"./.models/transformer_2.pth\")"
   ]
  },
  {
   "cell_type": "code",
   "execution_count": 573,
   "metadata": {},
   "outputs": [
    {
     "name": "stdout",
     "output_type": "stream",
     "text": [
      "[1,     9], total_loss 4.764,  lossL 0.529\n",
      "[2,     9], total_loss 2.838,  lossL 0.315\n",
      "[3,     9], total_loss 2.413,  lossL 0.268\n",
      "[4,     9], total_loss 2.158,  lossL 0.240\n",
      "[5,     9], total_loss 1.940,  lossL 0.216\n",
      "[6,     9], total_loss 1.781,  lossL 0.198\n",
      "[7,     9], total_loss 1.638,  lossL 0.182\n",
      "[8,     9], total_loss 1.528,  lossL 0.170\n",
      "[9,     9], total_loss 1.432,  lossL 0.159\n",
      "[10,     9], total_loss 1.367,  lossL 0.152\n",
      "[11,     9], total_loss 1.307,  lossL 0.145\n",
      "[12,     9], total_loss 1.256,  lossL 0.140\n",
      "[13,     9], total_loss 1.217,  lossL 0.135\n",
      "[14,     9], total_loss 1.178,  lossL 0.131\n",
      "[15,     9], total_loss 1.148,  lossL 0.128\n",
      "[16,     9], total_loss 1.122,  lossL 0.125\n",
      "[17,     9], total_loss 1.095,  lossL 0.122\n",
      "[18,     9], total_loss 1.072,  lossL 0.119\n",
      "[19,     9], total_loss 1.057,  lossL 0.117\n",
      "[20,     9], total_loss 1.039,  lossL 0.115\n",
      "[21,     9], total_loss 1.025,  lossL 0.114\n",
      "[22,     9], total_loss 1.011,  lossL 0.112\n",
      "[23,     9], total_loss 0.999,  lossL 0.111\n",
      "[24,     9], total_loss 0.984,  lossL 0.109\n",
      "[25,     9], total_loss 0.973,  lossL 0.108\n"
     ]
    }
   ],
   "source": [
    "model3 = TransAm(feature_size=30, max_enc_len=30000)\n",
    "criterion = nn.MSELoss().to(_device)\n",
    "optimizer = torch.optim.Adam(model3.parameters())\n",
    "#scheduler = torch.optim.lr_scheduler.StepLR(optimizer, 1.0)\n",
    "\n",
    "#def train_model(m)\n",
    "for epoch in range(25):\n",
    "    running_loss = 0.0\n",
    "    losses = []\n",
    "    for i, data in enumerate(train_dl2):\n",
    "\n",
    "        # get the inputs; data is a list of [inputs, labels]\n",
    "        inputs, y = data[0].to(_device), data[1].to(_device)\n",
    "        inputs = inputs.float()\n",
    "        y = y.float()\n",
    "        # zero the paramter gradients\n",
    "        optimizer.zero_grad()\n",
    "\n",
    "        # forward + backward + optimize\n",
    "        outputs = model3(inputs)\n",
    "        loss = criterion(outputs, y)\n",
    "        loss.backward()\n",
    "        optimizer.step()\n",
    "\n",
    "        # print statistics\n",
    "        losses.append(loss.item())\n",
    "        running_loss += loss.item()\n",
    "        #print(\"batch: {} ! loss: {}\".format(i, running_loss))\n",
    "\n",
    "        if i % 9 == 8:\n",
    "            print('[%d, %5d], total_loss %.3f,  lossL %.3f' %\n",
    "                  (epoch + 1, i + 1, running_loss, running_loss / 9))\n",
    "            running_loss = 0.0\n",
    "torch.save(model3, \"./.models/transformer_3.pth\")"
   ]
  },
  {
   "cell_type": "code",
   "execution_count": 576,
   "metadata": {},
   "outputs": [
    {
     "name": "stdout",
     "output_type": "stream",
     "text": [
      "[1,     9], total_loss 9.624,  lossL 1.069\n",
      "[2,     9], total_loss 9.624,  lossL 1.069\n",
      "[3,     9], total_loss 9.626,  lossL 1.070\n",
      "[4,     9], total_loss 9.628,  lossL 1.070\n",
      "[5,     9], total_loss 9.630,  lossL 1.070\n",
      "[6,     9], total_loss 9.625,  lossL 1.069\n",
      "[7,     9], total_loss 9.629,  lossL 1.070\n",
      "[8,     9], total_loss 9.624,  lossL 1.069\n",
      "[9,     9], total_loss 9.630,  lossL 1.070\n",
      "[10,     9], total_loss 9.626,  lossL 1.070\n"
     ]
    }
   ],
   "source": [
    "model5 = TransAm(feature_size=30, max_enc_len=30000)\n",
    "criterion = nn.MSELoss().to(_device)\n",
    "optimizer = torch.optim.Adam(model3.parameters())\n",
    "#scheduler = torch.optim.lr_scheduler.StepLR(optimizer, 1.0)\n",
    "\n",
    "#def train_model(m)\n",
    "for epoch in range(10):\n",
    "    running_loss = 0.0\n",
    "    losses = []\n",
    "    for i, data in enumerate(train_dl2):\n",
    "\n",
    "        # get the inputs; data is a list of [inputs, labels]\n",
    "        inputs, y = data[0].to(_device), data[1].to(_device)\n",
    "        inputs = inputs.float()\n",
    "        y = y.float()\n",
    "        # zero the paramter gradients\n",
    "        optimizer.zero_grad()\n",
    "\n",
    "        # forward + backward + optimize\n",
    "        outputs = model5(inputs)\n",
    "        loss = criterion(outputs, y)\n",
    "        loss.backward()\n",
    "        optimizer.step()\n",
    "\n",
    "        # print statistics\n",
    "        losses.append(loss.item())\n",
    "        running_loss += loss.item()\n",
    "        #print(\"batch: {} ! loss: {}\".format(i, running_loss))\n",
    "\n",
    "        if i % 9 == 8:\n",
    "            print('[%d, %5d], total_loss %.3f,  lossL %.3f' %\n",
    "                  (epoch + 1, i + 1, running_loss, running_loss / 9))\n",
    "            running_loss = 0.0\n",
    "            \n",
    "torch.save(model5, \"./.models/transformer_5.pth\")"
   ]
  },
  {
   "cell_type": "code",
   "execution_count": 570,
   "metadata": {},
   "outputs": [
    {
     "data": {
      "text/plain": [
       "'C:\\\\Users\\\\Alec\\\\OneDrive\\\\Documents\\\\Syracuse\\\\IST707-DataAnalytics\\\\project'"
      ]
     },
     "execution_count": 570,
     "metadata": {},
     "output_type": "execute_result"
    }
   ],
   "source": [
    "pwd"
   ]
  },
  {
   "cell_type": "code",
   "execution_count": 577,
   "metadata": {},
   "outputs": [
    {
     "name": "stdout",
     "output_type": "stream",
     "text": [
      "[1,     9], total_loss 232.305,  lossL 25.812\n",
      "[2,     9], total_loss 171.578,  lossL 19.064\n",
      "[3,     9], total_loss 156.524,  lossL 17.392\n",
      "[4,     9], total_loss 147.981,  lossL 16.442\n",
      "[5,     9], total_loss 143.720,  lossL 15.969\n"
     ]
    }
   ],
   "source": [
    "model4 = TransAm(feature_size=30, max_enc_len=5000)\n",
    "criterion = nn.MSELoss().to(_device)\n",
    "optimizer = torch.optim.SGD(model4.parameters(), lr=0.01)\n",
    "#scheduler = torch.optim.lr_scheduler.StepLR(optimizer, 1.0)\n",
    "\n",
    "## Mini batch training with small_enc_len\n",
    "size = 35064\n",
    "mini_batch_size = 250\n",
    "mini_batches = int(np.ceil(size / mini_batch_size))\n",
    "index = torch.arange(size)\n",
    "#def train_model(m)\n",
    "for epoch in range(5):\n",
    "    running_loss = 0.0\n",
    "    losses = []\n",
    "    for i, data in enumerate(train_dl2):\n",
    "        \n",
    "        \n",
    "        for t in range(0, size, mini_batch_size):\n",
    "            inputs, y = data[0].to(_device).float(), data[1].to(_device).float()\n",
    "            # get the inputs; data is a list of [in:puts, labels]\n",
    "            #print(t)\n",
    "            inputs = inputs[:, t:t+mini_batch_size, :]\n",
    "            y = y[:, t:t+mini_batch_size, :]\n",
    "            #print(inputs.size())\n",
    "            #print(y.size())\n",
    "            # zero the paramter gradients\n",
    "            optimizer.zero_grad()\n",
    "\n",
    "            # forward + backward + optimize\n",
    "            outputs = model4(inputs)\n",
    "            loss = criterion(outputs, y)\n",
    "            loss.backward()\n",
    "            optimizer.step()\n",
    "\n",
    "            # print statistics\n",
    "            #print(\"Minibatch loss:\", loss.item())\n",
    "            losses.append(loss.item())\n",
    "            running_loss += loss.item()\n",
    "            #print(\"batch: {} ! loss: {}\".format(i, running_loss))\n",
    "\n",
    "        if i % 9 == 8:\n",
    "            print('[%d, %5d], total_loss %.3f,  lossL %.3f' %\n",
    "                  (epoch + 1, i + 1, running_loss, running_loss / 9))\n",
    "            running_loss = 0.0"
   ]
  },
  {
   "cell_type": "code",
   "execution_count": 545,
   "metadata": {},
   "outputs": [
    {
     "data": {
      "text/plain": [
       "0.0"
      ]
     },
     "execution_count": 545,
     "metadata": {},
     "output_type": "execute_result"
    }
   ],
   "source": [
    "running_loss"
   ]
  },
  {
   "cell_type": "code",
   "execution_count": 597,
   "metadata": {},
   "outputs": [
    {
     "name": "stdout",
     "output_type": "stream",
     "text": [
      "self.files: ['C:\\\\Users\\\\Alec\\\\OneDrive\\\\Documents\\\\Syracuse\\\\IST707-DataAnalytics\\\\project\\\\.data\\\\bejing_air_quality\\\\cleaned\\\\test\\\\PRSA_Data_Tiantan_20130301-20170228.csv', 'C:\\\\Users\\\\Alec\\\\OneDrive\\\\Documents\\\\Syracuse\\\\IST707-DataAnalytics\\\\project\\\\.data\\\\bejing_air_quality\\\\cleaned\\\\test\\\\PRSA_Data_Wanliu_20130301-20170228.csv', 'C:\\\\Users\\\\Alec\\\\OneDrive\\\\Documents\\\\Syracuse\\\\IST707-DataAnalytics\\\\project\\\\.data\\\\bejing_air_quality\\\\cleaned\\\\test\\\\PRSA_Data_Wanshouxigong_20130301-20170228.csv']\n"
     ]
    }
   ],
   "source": [
    "bej_ds3 = preprocessor.BejingAirDataset(path, train=False)\n",
    "train_dl3 = preprocessor.get_dataloader2(bej_ds3,device=_device)"
   ]
  },
  {
   "cell_type": "code",
   "execution_count": 598,
   "metadata": {},
   "outputs": [
    {
     "name": "stdout",
     "output_type": "stream",
     "text": [
      "tensor(0.0843, device='cuda:0', grad_fn=<MseLossBackward>)\n",
      "tensor(0.1028, device='cuda:0', grad_fn=<MseLossBackward>)\n",
      "tensor(0.1338, device='cuda:0', grad_fn=<MseLossBackward>)\n"
     ]
    }
   ],
   "source": [
    "for X, y in train_dl3:\n",
    "    X = X.float()\n",
    "    y = y.float()\n",
    "    model.eval()\n",
    "    preds = model(X)\n",
    "    print(criterion(preds, y))\n",
    "    "
   ]
  },
  {
   "cell_type": "code",
   "execution_count": 579,
   "metadata": {},
   "outputs": [
    {
     "name": "stdout",
     "output_type": "stream",
     "text": [
      "tensor(0.1737, device='cuda:0', grad_fn=<MseLossBackward>)\n",
      "tensor(0.1966, device='cuda:0', grad_fn=<MseLossBackward>)\n",
      "tensor(0.2098, device='cuda:0', grad_fn=<MseLossBackward>)\n"
     ]
    }
   ],
   "source": [
    "for X, y in train_dl3:\n",
    "    X = X.float()\n",
    "    y = y.float()\n",
    "    model2.eval()\n",
    "    preds = model2(X)\n",
    "    print(criterion(preds, y))\n",
    "    "
   ]
  },
  {
   "cell_type": "code",
   "execution_count": 580,
   "metadata": {},
   "outputs": [
    {
     "name": "stdout",
     "output_type": "stream",
     "text": [
      "tensor(0.0837, device='cuda:0', grad_fn=<MseLossBackward>)\n",
      "tensor(0.1021, device='cuda:0', grad_fn=<MseLossBackward>)\n",
      "tensor(0.1231, device='cuda:0', grad_fn=<MseLossBackward>)\n"
     ]
    }
   ],
   "source": [
    "for X, y in train_dl3:\n",
    "    X = X.float()\n",
    "    y = y.float()\n",
    "    model3.eval()\n",
    "    preds = model3(X)\n",
    "    print(criterion(preds, y))\n",
    "    "
   ]
  },
  {
   "cell_type": "code",
   "execution_count": 557,
   "metadata": {},
   "outputs": [
    {
     "name": "stdout",
     "output_type": "stream",
     "text": [
      "tensor(1.2201, device='cuda:0', grad_fn=<MseLossBackward>)\n",
      "tensor(1.1826, device='cuda:0', grad_fn=<MseLossBackward>)\n",
      "tensor(1.2081, device='cuda:0', grad_fn=<MseLossBackward>)\n"
     ]
    }
   ],
   "source": [
    "for X, y in train_dl3:\n",
    "    X = X.float()\n",
    "    y = y.float()\n",
    "    model4.eval()\n",
    "    preds4 = model4(X)\n",
    "    print(criterion(preds4, y))\n",
    "    "
   ]
  },
  {
   "cell_type": "code",
   "execution_count": 500,
   "metadata": {},
   "outputs": [
    {
     "data": {
      "text/plain": [
       "torch.Size([1, 35064, 1])"
      ]
     },
     "execution_count": 500,
     "metadata": {},
     "output_type": "execute_result"
    }
   ],
   "source": [
    "preds.size()"
   ]
  },
  {
   "cell_type": "code",
   "execution_count": 501,
   "metadata": {},
   "outputs": [
    {
     "data": {
      "text/plain": [
       "torch.Size([1, 35064, 1])"
      ]
     },
     "execution_count": 501,
     "metadata": {},
     "output_type": "execute_result"
    }
   ],
   "source": [
    "y.size()"
   ]
  },
  {
   "cell_type": "code",
   "execution_count": 599,
   "metadata": {},
   "outputs": [],
   "source": [
    "pred_y = preds.detach().cpu().numpy()[0,:, :]\n",
    "ys = y.cpu().numpy()[0,:, :]"
   ]
  },
  {
   "cell_type": "code",
   "execution_count": 600,
   "metadata": {},
   "outputs": [
    {
     "data": {
      "image/png": "[encoded data removed]",
      "text/plain": [
       "<Figure size 1080x1080 with 1 Axes>"
      ]
     },
     "metadata": {
      "needs_background": "light"
     },
     "output_type": "display_data"
    }
   ],
   "source": [
    "import matplotlib.pyplot as plt\n",
    "x = np.arange(len(ys))\n",
    "\n",
    "fig = plt.figure(figsize=(15, 15))\n",
    "plt.plot(x, pred_y, label=\"preds\")\n",
    "plt.plot(x, ys, label=\"actual\")\n",
    "plt.legend()\n",
    "plt.show()"
   ]
  },
  {
   "cell_type": "code",
   "execution_count": 583,
   "metadata": {},
   "outputs": [
    {
     "data": {
      "text/plain": [
       "-0.951009"
      ]
     },
     "execution_count": 583,
     "metadata": {},
     "output_type": "execute_result"
    }
   ],
   "source": [
    "ys.min()"
   ]
  },
  {
   "cell_type": "code",
   "execution_count": 364,
   "metadata": {},
   "outputs": [
    {
     "data": {
      "text/plain": [
       "0.10622499132167251"
      ]
     },
     "execution_count": 364,
     "metadata": {},
     "output_type": "execute_result"
    }
   ],
   "source": [
    "(((pred_y - ys) ** 2).sum() / len(ys))"
   ]
  },
  {
   "cell_type": "code",
   "execution_count": 609,
   "metadata": {},
   "outputs": [
    {
     "ename": "NameError",
     "evalue": "name 'pipeline' is not defined",
     "output_type": "error",
     "traceback": [
      "\u001b[1;31m---------------------------------------------------------------------------\u001b[0m",
      "\u001b[1;31mNameError\u001b[0m                                 Traceback (most recent call last)",
      "\u001b[1;32m<ipython-input-609-eab3d6719c16>\u001b[0m in \u001b[0;36m<module>\u001b[1;34m\u001b[0m\n\u001b[1;32m----> 1\u001b[1;33m \u001b[0mpipeline\u001b[0m\u001b[1;33m\u001b[0m\u001b[1;33m\u001b[0m\u001b[0m\n\u001b[0m",
      "\u001b[1;31mNameError\u001b[0m: name 'pipeline' is not defined"
     ]
    }
   ],
   "source": [
    "pipeline"
   ]
  },
  {
   "cell_type": "code",
   "execution_count": 1,
   "metadata": {},
   "outputs": [
    {
     "ename": "NameError",
     "evalue": "name 'ys' is not defined",
     "output_type": "error",
     "traceback": [
      "\u001b[1;31m---------------------------------------------------------------------------\u001b[0m",
      "\u001b[1;31mNameError\u001b[0m                                 Traceback (most recent call last)",
      "\u001b[1;32m<ipython-input-1-649aac462d2a>\u001b[0m in \u001b[0;36m<module>\u001b[1;34m\u001b[0m\n\u001b[1;32m----> 1\u001b[1;33m \u001b[0mlen\u001b[0m\u001b[1;33m(\u001b[0m\u001b[0mys\u001b[0m\u001b[1;33m)\u001b[0m\u001b[1;33m\u001b[0m\u001b[1;33m\u001b[0m\u001b[0m\n\u001b[0m",
      "\u001b[1;31mNameError\u001b[0m: name 'ys' is not defined"
     ]
    }
   ],
   "source": [
    "len(ys)"
   ]
  },
  {
   "cell_type": "code",
   "execution_count": null,
   "metadata": {},
   "outputs": [],
   "source": []
  },
  {
   "cell_type": "code",
   "execution_count": null,
   "metadata": {},
   "outputs": [],
   "source": []
  }
 ],
 "metadata": {
  "kernelspec": {
   "display_name": "Python 3",
   "language": "python",
   "name": "python3"
  },
  "language_info": {
   "codemirror_mode": {
    "name": "ipython",
    "version": 3
   },
   "file_extension": ".py",
   "mimetype": "text/x-python",
   "name": "python",
   "nbconvert_exporter": "python",
   "pygments_lexer": "ipython3",
   "version": "3.7.6"
  }
 },
 "nbformat": 4,
 "nbformat_minor": 4
}
